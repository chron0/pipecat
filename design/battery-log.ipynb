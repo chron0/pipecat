{
 "cells": [
  {
   "cell_type": "code",
   "execution_count": 1,
   "metadata": {
    "collapsed": false
   },
   "outputs": [],
   "source": [
    "import logging\n",
    "logging.basicConfig(level=logging.DEBUG)\n",
    "\n",
    "import serial\n",
    "import toyplot\n",
    "\n",
    "import datacat.limit\n",
    "import datacat.source.charger\n",
    "import datacat.source.time\n",
    "import datacat.storage"
   ]
  },
  {
   "cell_type": "code",
   "execution_count": 2,
   "metadata": {
    "collapsed": false
   },
   "outputs": [],
   "source": [
    "pipeline = datacat.source.charger.icharger208b(serial.serial_for_url(\"/dev/cu.SLAB_USBtoUART\", baudrate=128000))\n",
    "pipeline = datacat.source.time.timestamp(pipeline)\n",
    "pipeline = datacat.limit.timeout(pipeline, timeout=datacat.quantity(5, datacat.units.seconds))\n",
    "pipeline = datacat.storage.cache(pipeline)"
   ]
  },
  {
   "cell_type": "code",
   "execution_count": 3,
   "metadata": {
    "collapsed": false,
    "scrolled": false
   },
   "outputs": [
    {
     "name": "stdout",
     "output_type": "stream",
     "text": [
      "4.075 volt 170.0 milliampere 0.0 hour * milliampere\n",
      "4.05 volt 450.0 milliampere 0.0 hour * milliampere\n",
      "3.997 volt 880.0 milliampere 0.0 hour * milliampere\n",
      "3.972 volt 990.0 milliampere 1.0 hour * milliampere\n",
      "3.965 volt 1000.0 milliampere 1.0 hour * milliampere\n",
      "3.965 volt 1000.0 milliampere 2.0 hour * milliampere\n",
      "3.963 volt 990.0 milliampere 2.0 hour * milliampere\n",
      "3.962 volt 990.0 milliampere 3.0 hour * milliampere\n",
      "3.954 volt 990.0 milliampere 3.0 hour * milliampere\n",
      "3.963 volt 1000.0 milliampere 4.0 hour * milliampere\n",
      "3.954 volt 990.0 milliampere 5.0 hour * milliampere\n",
      "3.954 volt 990.0 milliampere 5.0 hour * milliampere\n",
      "3.954 volt 990.0 milliampere 6.0 hour * milliampere\n"
     ]
    },
    {
     "name": "stderr",
     "output_type": "stream",
     "text": [
      "INFO:datacat:Iteration stopped by 5 second timeout.\n"
     ]
    }
   ],
   "source": [
    "for record in pipeline:\n",
    "    print record[(\"battery\", \"voltage\")], record[(\"battery\", \"current\")], record[(\"battery\", \"charge\")]"
   ]
  },
  {
   "cell_type": "code",
   "execution_count": 4,
   "metadata": {
    "collapsed": false
   },
   "outputs": [
    {
     "data": {
      "text/html": [
       "<div align=\"center\" class=\"toyplot\" id=\"t5de6d10e6ced4d09a03035d474c74ba1\"><svg class=\"toyplot-canvas-Canvas\" height=\"600px\" id=\"t6fb64416c8ba41d892335740a0b76bd2\" preserveAspectRatio=\"xMidYMid meet\" style=\"background-color:transparent;fill:rgb(16.1%,15.3%,14.1%);fill-opacity:1.0;font-family:Helvetica;font-size:12px;opacity:1.0;stroke:rgb(16.1%,15.3%,14.1%);stroke-opacity:1.0;stroke-width:1.0\" viewBox=\"0 0 600 600\" width=\"600px\" xmlns=\"http://www.w3.org/2000/svg\" xmlns:toyplot=\"http://www.sandia.gov/toyplot\" xmlns:xlink=\"http://www.w3.org/1999/xlink\"><g class=\"toyplot-coordinates-Cartesian\" id=\"t44dc7785202b43009a09989091bdf738\"><clipPath id=\"ta242dd06fbef4b4d93203bc5c7407b59\"><rect height=\"120.0\" width=\"520.0\" x=\"40.0\" y=\"40.0\"></rect></clipPath><g clip-path=\"url(#ta242dd06fbef4b4d93203bc5c7407b59)\"><g class=\"toyplot-mark-Plot\" id=\"t79dd2f52626243bf863802eeee320d7a\" style=\"fill:none\"><g class=\"toyplot-Series\"><path d=\"M 50.0 53.96825396825389 L 91.666666666666657 73.809523809524023 L 133.33333333333331 115.87301587301609 L 175.0 135.71428571428589 L 216.66666666666666 141.26984126984155 L 258.33333333333337 141.26984126984155 L 300.0 142.85714285714292 L 341.66666666666669 143.65079365079364 L 383.33333333333331 150.0 L 425.0 142.85714285714292 L 466.66666666666669 150.0 L 508.33333333333331 150.0 L 550.0 150.0\" style=\"stroke:rgb(40%,76.1%,64.7%);stroke-opacity:1.0;stroke-width:2.0\"></path></g></g></g><g class=\"toyplot-coordinates-Axis\" id=\"t38723b2a7a604080865653f7675985c3\" transform=\"translate(50.0,150.0)translate(0,10.0)\"><line style=\"\" x1=\"0\" x2=\"500.0\" y1=\"0\" y2=\"0\"></line><g><text style=\"font-weight:normal;stroke:none;text-anchor:middle\" transform=\"translate(0.0,6)translate(0,7.5)\"><tspan style=\"font-size:10.0px\">0</tspan></text><text style=\"font-weight:normal;stroke:none;text-anchor:middle\" transform=\"translate(166.66666666666666,6)translate(0,7.5)\"><tspan style=\"font-size:10.0px\">4</tspan></text><text style=\"font-weight:normal;stroke:none;text-anchor:middle\" transform=\"translate(333.3333333333333,6)translate(0,7.5)\"><tspan style=\"font-size:10.0px\">8</tspan></text><text style=\"font-weight:normal;stroke:none;text-anchor:middle\" transform=\"translate(500.0,6)translate(0,7.5)\"><tspan style=\"font-size:10.0px\">12</tspan></text></g><g class=\"toyplot-coordinates-Axis-coordinates\" style=\"visibility:hidden\" transform=\"\"><line style=\"stroke:rgb(43.9%,50.2%,56.5%);stroke-opacity:1.0;stroke-width:1.0\" x1=\"0\" x2=\"0\" y1=\"-3.0\" y2=\"4.5\"></line><text style=\"alignment-baseline:alphabetic;fill:rgb(43.9%,50.2%,56.5%);fill-opacity:1.0;font-size:10px;font-weight:normal;stroke:none;text-anchor:middle\" x=\"0\" y=\"-6\"></text></g></g><g class=\"toyplot-coordinates-Axis\" id=\"t97d8ff8f645f47d4b330f3da6318a20f\" transform=\"translate(50.0,150.0)rotate(-90.0)translate(0,-10.0)\"><line style=\"\" x1=\"0\" x2=\"96.03174603174611\" y1=\"0\" y2=\"0\"></line><g><text style=\"font-weight:normal;stroke:none;text-anchor:middle\" transform=\"translate(4.761904761904594,-6)\"><tspan style=\"font-size:10.0px\">3.96</tspan></text><text style=\"font-weight:normal;stroke:none;text-anchor:middle\" transform=\"translate(36.50793650793639,-6)\"><tspan style=\"font-size:10.0px\">4.00</tspan></text><text style=\"font-weight:normal;stroke:none;text-anchor:middle\" transform=\"translate(68.2539682539682,-6)\"><tspan style=\"font-size:10.0px\">4.04</tspan></text><text style=\"font-weight:normal;stroke:none;text-anchor:middle\" transform=\"translate(100.0,-6)\"><tspan style=\"font-size:10.0px\">4.08</tspan></text></g><text style=\"font-weight:bold;stroke:none;text-anchor:middle\" transform=\"translate(50.0,-22)\"><tspan style=\"font-size:12.0px\">Voltage (V)</tspan></text><g class=\"toyplot-coordinates-Axis-coordinates\" style=\"visibility:hidden\" transform=\"\"><line style=\"stroke:rgb(43.9%,50.2%,56.5%);stroke-opacity:1.0;stroke-width:1.0\" x1=\"0\" x2=\"0\" y1=\"3.0\" y2=\"-4.5\"></line><text style=\"alignment-baseline:hanging;fill:rgb(43.9%,50.2%,56.5%);fill-opacity:1.0;font-size:10px;font-weight:normal;stroke:none;text-anchor:middle\" x=\"0\" y=\"6\"></text></g></g><text style=\"font-weight:bold;stroke:none;text-anchor:middle\" transform=\"translate(300.0,50.0)translate(0,-10.0625)\"><tspan style=\"font-size:14.0px\">Battery</tspan></text></g><g class=\"toyplot-coordinates-Cartesian\" id=\"te696ba9a578149739350f365af7d6e3b\"><clipPath id=\"t1a6a671383274cf6a67128c3fb354f50\"><rect height=\"120.0\" width=\"520.0\" x=\"40.0\" y=\"240.0\"></rect></clipPath><g clip-path=\"url(#t1a6a671383274cf6a67128c3fb354f50)\"><g class=\"toyplot-mark-Plot\" id=\"tc9edeeaaa2ad481db8f536ee694172f4\" style=\"fill:none\"><g class=\"toyplot-Series\"><path d=\"M 50.0 350.0 L 91.666666666666657 316.26506024096386 L 133.33333333333331 264.45783132530119 L 175.0 251.20481927710844 L 216.66666666666666 250.0 L 258.33333333333337 250.0 L 300.0 251.20481927710844 L 341.66666666666669 251.20481927710844 L 383.33333333333331 251.20481927710844 L 425.0 250.0 L 466.66666666666669 251.20481927710844 L 508.33333333333331 251.20481927710844 L 550.0 251.20481927710844\" style=\"stroke:rgb(40%,76.1%,64.7%);stroke-opacity:1.0;stroke-width:2.0\"></path></g></g></g><g class=\"toyplot-coordinates-Axis\" id=\"t3f869c9e39cc4e0896b4cf80fc0f79be\" transform=\"translate(50.0,350.0)translate(0,10.0)\"><line style=\"\" x1=\"0\" x2=\"500.0\" y1=\"0\" y2=\"0\"></line><g><text style=\"font-weight:normal;stroke:none;text-anchor:middle\" transform=\"translate(0.0,6)translate(0,7.5)\"><tspan style=\"font-size:10.0px\">0</tspan></text><text style=\"font-weight:normal;stroke:none;text-anchor:middle\" transform=\"translate(166.66666666666666,6)translate(0,7.5)\"><tspan style=\"font-size:10.0px\">4</tspan></text><text style=\"font-weight:normal;stroke:none;text-anchor:middle\" transform=\"translate(333.3333333333333,6)translate(0,7.5)\"><tspan style=\"font-size:10.0px\">8</tspan></text><text style=\"font-weight:normal;stroke:none;text-anchor:middle\" transform=\"translate(500.0,6)translate(0,7.5)\"><tspan style=\"font-size:10.0px\">12</tspan></text></g><g class=\"toyplot-coordinates-Axis-coordinates\" style=\"visibility:hidden\" transform=\"\"><line style=\"stroke:rgb(43.9%,50.2%,56.5%);stroke-opacity:1.0;stroke-width:1.0\" x1=\"0\" x2=\"0\" y1=\"-3.0\" y2=\"4.5\"></line><text style=\"alignment-baseline:alphabetic;fill:rgb(43.9%,50.2%,56.5%);fill-opacity:1.0;font-size:10px;font-weight:normal;stroke:none;text-anchor:middle\" x=\"0\" y=\"-6\"></text></g></g><g class=\"toyplot-coordinates-Axis\" id=\"t59f10c71f87c42c38039b918cbc6ca14\" transform=\"translate(50.0,350.0)rotate(-90.0)translate(0,-10.0)\"><line style=\"\" x1=\"0\" x2=\"100.0\" y1=\"0\" y2=\"0\"></line><g><text style=\"font-weight:normal;stroke:none;text-anchor:middle\" transform=\"translate(9.638554216867469,-6)\"><tspan style=\"font-size:10.0px\">0.2</tspan></text><text style=\"font-weight:normal;stroke:none;text-anchor:middle\" transform=\"translate(39.75903614457831,-6)\"><tspan style=\"font-size:10.0px\">0.5</tspan></text><text style=\"font-weight:normal;stroke:none;text-anchor:middle\" transform=\"translate(69.87951807228916,-6)\"><tspan style=\"font-size:10.0px\">0.8</tspan></text><text style=\"font-weight:normal;stroke:none;text-anchor:middle\" transform=\"translate(100.0,-6)\"><tspan style=\"font-size:10.0px\">1.0</tspan></text></g><text style=\"font-weight:bold;stroke:none;text-anchor:middle\" transform=\"translate(50.0,-22)\"><tspan style=\"font-size:12.0px\">Current (A)</tspan></text><g class=\"toyplot-coordinates-Axis-coordinates\" style=\"visibility:hidden\" transform=\"\"><line style=\"stroke:rgb(43.9%,50.2%,56.5%);stroke-opacity:1.0;stroke-width:1.0\" x1=\"0\" x2=\"0\" y1=\"3.0\" y2=\"-4.5\"></line><text style=\"alignment-baseline:hanging;fill:rgb(43.9%,50.2%,56.5%);fill-opacity:1.0;font-size:10px;font-weight:normal;stroke:none;text-anchor:middle\" x=\"0\" y=\"6\"></text></g></g></g><g class=\"toyplot-coordinates-Cartesian\" id=\"t6032e7b455be48f0813f8068a951b885\"><clipPath id=\"tddcb8097fb3641049d9c9859b2fe0f1d\"><rect height=\"120.0\" width=\"520.0\" x=\"40.0\" y=\"440.0\"></rect></clipPath><g clip-path=\"url(#tddcb8097fb3641049d9c9859b2fe0f1d)\"><g class=\"toyplot-mark-Plot\" id=\"t7d7c6fcb5a0941959e3748de49312fbf\" style=\"fill:none\"><g class=\"toyplot-Series\"><path d=\"M 50.0 550.0 L 91.666666666666657 550.0 L 133.33333333333331 550.0 L 175.0 533.33333333333337 L 216.66666666666666 533.33333333333337 L 258.33333333333337 516.66666666666674 L 300.0 516.66666666666674 L 341.66666666666669 500.0 L 383.33333333333331 500.0 L 425.0 483.33333333333337 L 466.66666666666669 466.66666666666663 L 508.33333333333331 466.66666666666663 L 550.0 450.0\" style=\"stroke:rgb(40%,76.1%,64.7%);stroke-opacity:1.0;stroke-width:2.0\"></path></g></g></g><g class=\"toyplot-coordinates-Axis\" id=\"td58387c1094c4dc697bd79c2dabcdb5d\" transform=\"translate(50.0,550.0)translate(0,10.0)\"><line style=\"\" x1=\"0\" x2=\"500.0\" y1=\"0\" y2=\"0\"></line><g><text style=\"font-weight:normal;stroke:none;text-anchor:middle\" transform=\"translate(0.0,6)translate(0,7.5)\"><tspan style=\"font-size:10.0px\">0</tspan></text><text style=\"font-weight:normal;stroke:none;text-anchor:middle\" transform=\"translate(166.66666666666666,6)translate(0,7.5)\"><tspan style=\"font-size:10.0px\">4</tspan></text><text style=\"font-weight:normal;stroke:none;text-anchor:middle\" transform=\"translate(333.3333333333333,6)translate(0,7.5)\"><tspan style=\"font-size:10.0px\">8</tspan></text><text style=\"font-weight:normal;stroke:none;text-anchor:middle\" transform=\"translate(500.0,6)translate(0,7.5)\"><tspan style=\"font-size:10.0px\">12</tspan></text></g><g class=\"toyplot-coordinates-Axis-coordinates\" style=\"visibility:hidden\" transform=\"\"><line style=\"stroke:rgb(43.9%,50.2%,56.5%);stroke-opacity:1.0;stroke-width:1.0\" x1=\"0\" x2=\"0\" y1=\"-3.0\" y2=\"4.5\"></line><text style=\"alignment-baseline:alphabetic;fill:rgb(43.9%,50.2%,56.5%);fill-opacity:1.0;font-size:10px;font-weight:normal;stroke:none;text-anchor:middle\" x=\"0\" y=\"-6\"></text></g></g><g class=\"toyplot-coordinates-Axis\" id=\"t6fb1181bcb3248bc8105d7a897349c04\" transform=\"translate(50.0,550.0)rotate(-90.0)translate(0,-10.0)\"><line style=\"\" x1=\"0\" x2=\"100.0\" y1=\"0\" y2=\"0\"></line><g><text style=\"font-weight:normal;stroke:none;text-anchor:middle\" transform=\"translate(0.0,-6)\"><tspan style=\"font-size:10.0px\">0</tspan></text><text style=\"font-weight:normal;stroke:none;text-anchor:middle\" transform=\"translate(33.33333333333333,-6)\"><tspan style=\"font-size:10.0px\">2</tspan></text><text style=\"font-weight:normal;stroke:none;text-anchor:middle\" transform=\"translate(66.66666666666666,-6)\"><tspan style=\"font-size:10.0px\">4</tspan></text><text style=\"font-weight:normal;stroke:none;text-anchor:middle\" transform=\"translate(100.0,-6)\"><tspan style=\"font-size:10.0px\">6</tspan></text></g><text style=\"font-weight:bold;stroke:none;text-anchor:middle\" transform=\"translate(50.0,-22)\"><tspan style=\"font-size:12.0px\">Charge (mAH)</tspan></text><g class=\"toyplot-coordinates-Axis-coordinates\" style=\"visibility:hidden\" transform=\"\"><line style=\"stroke:rgb(43.9%,50.2%,56.5%);stroke-opacity:1.0;stroke-width:1.0\" x1=\"0\" x2=\"0\" y1=\"3.0\" y2=\"-4.5\"></line><text style=\"alignment-baseline:hanging;fill:rgb(43.9%,50.2%,56.5%);fill-opacity:1.0;font-size:10px;font-weight:normal;stroke:none;text-anchor:middle\" x=\"0\" y=\"6\"></text></g></g></g></svg><div class=\"toyplot-interactive\"><ul class=\"toyplot-mark-popup\" onmouseleave=\"this.style.visibility='hidden'\" style=\"background:rgba(0%,0%,0%,0.75);border:0;border-radius:6px;color:white;cursor:default;list-style:none;margin:0;padding:5px;position:fixed;visibility:hidden\">\n",
       "            <li class=\"toyplot-mark-popup-title\" style=\"color:lightgray;cursor:default;padding:5px;list-style:none;margin:0\"></li>\n",
       "            <li class=\"toyplot-mark-popup-save-csv\" onmouseout=\"this.style.color='white';this.style.background='steelblue'\" onmouseover=\"this.style.color='steelblue';this.style.background='white'\" style=\"border-radius:3px;padding:5px;list-style:none;margin:0\">\n",
       "                Save as .csv\n",
       "            </li>\n",
       "        </ul><script>\n",
       "        (function()\n",
       "        {\n",
       "          var data_tables = [{\"title\": \"Plot Data\", \"names\": [\"x\", \"y0\"], \"id\": \"t79dd2f52626243bf863802eeee320d7a\", \"columns\": [[0, 1, 2, 3, 4, 5, 6, 7, 8, 9, 10, 11, 12], [4.075, 4.05, 3.997, 3.972, 3.965, 3.965, 3.963, 3.962, 3.954, 3.963, 3.954, 3.954, 3.954]], \"filename\": \"toyplot\"}, {\"title\": \"Plot Data\", \"names\": [\"x\", \"y0\"], \"id\": \"tc9edeeaaa2ad481db8f536ee694172f4\", \"columns\": [[0, 1, 2, 3, 4, 5, 6, 7, 8, 9, 10, 11, 12], [0.17, 0.45, 0.88, 0.99, 1.0, 1.0, 0.99, 0.99, 0.99, 1.0, 0.99, 0.99, 0.99]], \"filename\": \"toyplot\"}, {\"title\": \"Plot Data\", \"names\": [\"x\", \"y0\"], \"id\": \"t7d7c6fcb5a0941959e3748de49312fbf\", \"columns\": [[0, 1, 2, 3, 4, 5, 6, 7, 8, 9, 10, 11, 12], [0.0, 0.0, 0.0, 1.0, 1.0, 2.0, 2.0, 3.0, 3.0, 4.0, 5.0, 5.0, 6.0]], \"filename\": \"toyplot\"}];\n",
       "\n",
       "          function save_csv(data_table)\n",
       "          {\n",
       "            var uri = \"data:text/csv;charset=utf-8,\";\n",
       "            uri += data_table.names.join(\",\") + \"\\n\";\n",
       "            for(var i = 0; i != data_table.columns[0].length; ++i)\n",
       "            {\n",
       "              for(var j = 0; j != data_table.columns.length; ++j)\n",
       "              {\n",
       "                if(j)\n",
       "                  uri += \",\";\n",
       "                uri += data_table.columns[j][i];\n",
       "              }\n",
       "              uri += \"\\n\";\n",
       "            }\n",
       "            uri = encodeURI(uri);\n",
       "\n",
       "            var link = document.createElement(\"a\");\n",
       "            if(typeof link.download != \"undefined\")\n",
       "            {\n",
       "              link.href = uri;\n",
       "              link.style = \"visibility:hidden\";\n",
       "              link.download = data_table.filename + \".csv\";\n",
       "\n",
       "              document.body.appendChild(link);\n",
       "              link.click();\n",
       "              document.body.removeChild(link);\n",
       "            }\n",
       "            else\n",
       "            {\n",
       "              window.open(uri);\n",
       "            }\n",
       "          }\n",
       "\n",
       "          function open_popup(data_table)\n",
       "          {\n",
       "            return function(e)\n",
       "            {\n",
       "              var popup = document.querySelector(\"#t5de6d10e6ced4d09a03035d474c74ba1 .toyplot-mark-popup\");\n",
       "              popup.querySelector(\".toyplot-mark-popup-title\").innerHTML = data_table.title;\n",
       "              popup.querySelector(\".toyplot-mark-popup-save-csv\").onclick = function() { popup.style.visibility = \"hidden\"; save_csv(data_table); }\n",
       "              popup.style.left = (e.clientX - 50) + \"px\";\n",
       "              popup.style.top = (e.clientY - 20) + \"px\";\n",
       "              popup.style.visibility = \"visible\";\n",
       "              e.stopPropagation();\n",
       "              e.preventDefault();\n",
       "            }\n",
       "\n",
       "          }\n",
       "\n",
       "          for(var i = 0; i != data_tables.length; ++i)\n",
       "          {\n",
       "            var data_table = data_tables[i];\n",
       "            var event_target = document.querySelector(\"#\" + data_table.id);\n",
       "            event_target.oncontextmenu = open_popup(data_table);\n",
       "          }\n",
       "        })();\n",
       "        </script><script>\n",
       "        (function()\n",
       "        {\n",
       "            function _sign(x)\n",
       "            {\n",
       "                return x < 0 ? -1 : x > 0 ? 1 : 0;\n",
       "            }\n",
       "\n",
       "            function _mix(a, b, amount)\n",
       "            {\n",
       "                return ((1.0 - amount) * a) + (amount * b);\n",
       "            }\n",
       "\n",
       "            function _log(x, base)\n",
       "            {\n",
       "                return Math.log(Math.abs(x)) / Math.log(base);\n",
       "            }\n",
       "\n",
       "            function _in_range(a, x, b)\n",
       "            {\n",
       "                var left = Math.min(a, b);\n",
       "                var right = Math.max(a, b);\n",
       "                return left <= x && x <= right;\n",
       "            }\n",
       "\n",
       "            function inside(range, projection)\n",
       "            {\n",
       "                for(var i = 0; i != projection.length; ++i)\n",
       "                {\n",
       "                    var segment = projection[i];\n",
       "                    if(_in_range(segment.range.min, range, segment.range.max))\n",
       "                        return true;\n",
       "                }\n",
       "                return false;\n",
       "            }\n",
       "\n",
       "            function to_domain(range, projection)\n",
       "            {\n",
       "                for(var i = 0; i != projection.length; ++i)\n",
       "                {\n",
       "                    var segment = projection[i];\n",
       "                    if(_in_range(segment.range.bounds.min, range, segment.range.bounds.max))\n",
       "                    {\n",
       "                        if(segment.scale == \"linear\")\n",
       "                        {\n",
       "                            var amount = (range - segment.range.min) / (segment.range.max - segment.range.min);\n",
       "                            return _mix(segment.domain.min, segment.domain.max, amount)\n",
       "                        }\n",
       "                        else if(segment.scale[0] == \"log\")\n",
       "                        {\n",
       "                            var amount = (range - segment.range.min) / (segment.range.max - segment.range.min);\n",
       "                            var base = segment.scale[1];\n",
       "                            return _sign(segment.domain.min) * Math.pow(base, _mix(_log(segment.domain.min, base), _log(segment.domain.max, base), amount));\n",
       "                        }\n",
       "                    }\n",
       "                }\n",
       "            }\n",
       "\n",
       "            function display_coordinates(e)\n",
       "            {\n",
       "                var current = svg.createSVGPoint();\n",
       "                current.x = e.clientX;\n",
       "                current.y = e.clientY;\n",
       "\n",
       "                for(var axis_id in axes)\n",
       "                {\n",
       "                    var axis = document.querySelector(\"#\" + axis_id);\n",
       "                    var coordinates = axis.querySelector(\".toyplot-coordinates-Axis-coordinates\");\n",
       "                    if(coordinates)\n",
       "                    {\n",
       "                        var projection = axes[axis_id];\n",
       "                        var local = current.matrixTransform(axis.getScreenCTM().inverse());\n",
       "                        if(inside(local.x, projection))\n",
       "                        {\n",
       "                            var domain = to_domain(local.x, projection);\n",
       "                            coordinates.style.visibility = \"visible\";\n",
       "                            coordinates.setAttribute(\"transform\", \"translate(\" + local.x + \")\");\n",
       "                            var text = coordinates.querySelector(\"text\");\n",
       "                            text.textContent = domain.toFixed(2);\n",
       "                        }\n",
       "                        else\n",
       "                        {\n",
       "                            coordinates.style.visibility= \"hidden\";\n",
       "                        }\n",
       "                    }\n",
       "                }\n",
       "            }\n",
       "\n",
       "            var root_id = \"t5de6d10e6ced4d09a03035d474c74ba1\";\n",
       "            var axes = {\"t38723b2a7a604080865653f7675985c3\": [{\"domain\": {\"bounds\": {\"max\": Infinity, \"min\": -Infinity}, \"max\": 12.0, \"min\": 0.0}, \"range\": {\"bounds\": {\"max\": Infinity, \"min\": -Infinity}, \"max\": 500.0, \"min\": 0.0}, \"scale\": \"linear\"}], \"t3f869c9e39cc4e0896b4cf80fc0f79be\": [{\"domain\": {\"bounds\": {\"max\": Infinity, \"min\": -Infinity}, \"max\": 12.0, \"min\": 0.0}, \"range\": {\"bounds\": {\"max\": Infinity, \"min\": -Infinity}, \"max\": 500.0, \"min\": 0.0}, \"scale\": \"linear\"}], \"t59f10c71f87c42c38039b918cbc6ca14\": [{\"domain\": {\"bounds\": {\"max\": Infinity, \"min\": -Infinity}, \"max\": 1.0, \"min\": 0.17000000000000001}, \"range\": {\"bounds\": {\"max\": Infinity, \"min\": -Infinity}, \"max\": 100.0, \"min\": 0.0}, \"scale\": \"linear\"}], \"t6fb1181bcb3248bc8105d7a897349c04\": [{\"domain\": {\"bounds\": {\"max\": Infinity, \"min\": -Infinity}, \"max\": 6.0, \"min\": 0.0}, \"range\": {\"bounds\": {\"max\": Infinity, \"min\": -Infinity}, \"max\": 100.0, \"min\": 0.0}, \"scale\": \"linear\"}], \"t97d8ff8f645f47d4b330f3da6318a20f\": [{\"domain\": {\"bounds\": {\"max\": Infinity, \"min\": -Infinity}, \"max\": 4.0800000000000001, \"min\": 3.9540000000000002}, \"range\": {\"bounds\": {\"max\": Infinity, \"min\": -Infinity}, \"max\": 100.0, \"min\": 0.0}, \"scale\": \"linear\"}], \"td58387c1094c4dc697bd79c2dabcdb5d\": [{\"domain\": {\"bounds\": {\"max\": Infinity, \"min\": -Infinity}, \"max\": 12.0, \"min\": 0.0}, \"range\": {\"bounds\": {\"max\": Infinity, \"min\": -Infinity}, \"max\": 500.0, \"min\": 0.0}, \"scale\": \"linear\"}]};\n",
       "\n",
       "            var svg = document.querySelector(\"#\" + root_id + \" svg\");\n",
       "            svg.addEventListener(\"click\", display_coordinates);\n",
       "        })();\n",
       "        </script></div></div>"
      ]
     },
     "metadata": {},
     "output_type": "display_data"
    }
   ],
   "source": [
    "canvas = toyplot.Canvas()\n",
    "axes = canvas.cartesian(grid=(3, 1, 0), label=\"Battery\", ylabel=\"Voltage (V)\")\n",
    "axes.plot(pipeline.table[(\"battery\", \"voltage\")].to(datacat.units.volt))\n",
    "\n",
    "axes = canvas.cartesian(grid=(3, 1, 1), ylabel=\"Current (A)\")\n",
    "axes.plot(pipeline.table[(\"battery\", \"current\")].to(datacat.units.amp))\n",
    "\n",
    "axes = canvas.cartesian(grid=(3, 1, 2), ylabel=\"Charge (mAH)\")\n",
    "axes.plot(pipeline.table[(\"battery\", \"charge\")].to(datacat.units.milliamp * datacat.units.hour));"
   ]
  },
  {
   "cell_type": "code",
   "execution_count": null,
   "metadata": {
    "collapsed": true
   },
   "outputs": [],
   "source": []
  }
 ],
 "metadata": {
  "anaconda-cloud": {},
  "kernelspec": {
   "display_name": "Python [default]",
   "language": "python",
   "name": "python2"
  },
  "language_info": {
   "codemirror_mode": {
    "name": "ipython",
    "version": 2
   },
   "file_extension": ".py",
   "mimetype": "text/x-python",
   "name": "python",
   "nbconvert_exporter": "python",
   "pygments_lexer": "ipython2",
   "version": "2.7.12"
  }
 },
 "nbformat": 4,
 "nbformat_minor": 1
}
