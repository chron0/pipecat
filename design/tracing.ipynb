{
 "cells": [
  {
   "cell_type": "code",
   "execution_count": 1,
   "metadata": {
    "collapsed": false
   },
   "outputs": [],
   "source": [
    "import itertools\n",
    "import time\n",
    "\n",
    "import pipecat.device.clock\n",
    "import pipecat.limit\n",
    "import pipecat.utility\n",
    "\n",
    "import logging\n",
    "logging.basicConfig(level=logging.DEBUG)"
   ]
  },
  {
   "cell_type": "code",
   "execution_count": 2,
   "metadata": {
    "collapsed": true
   },
   "outputs": [],
   "source": [
    "def broken_metronome():\n",
    "    for i in itertools.count():\n",
    "        yield {}\n",
    "        time.sleep(i)"
   ]
  },
  {
   "cell_type": "code",
   "execution_count": 3,
   "metadata": {
    "collapsed": false
   },
   "outputs": [
    {
     "name": "stderr",
     "output_type": "stream",
     "text": [
      "DEBUG:pipecat:<generator object timeout at 0x10ace4f50> started\n",
      "DEBUG:pipecat:<generator object broken_metronome at 0x10ace4eb0> started\n",
      "DEBUG:pipecat:<generator object broken_metronome at 0x10ace4eb0> record {}\n",
      "DEBUG:pipecat:<generator object broken_metronome at 0x10ace4eb0> record {}\n",
      "DEBUG:pipecat:<generator object timeout at 0x10ace4f50> record {}\n",
      "DEBUG:pipecat:<generator object timeout at 0x10ace4f50> record {}\n",
      "DEBUG:pipecat:<generator object broken_metronome at 0x10ace4eb0> record {}\n",
      "DEBUG:pipecat:<generator object timeout at 0x10ace4f50> record {}\n",
      "DEBUG:pipecat:<generator object broken_metronome at 0x10ace4eb0> record {}\n",
      "DEBUG:pipecat:<generator object timeout at 0x10ace4f50> record {}\n",
      "DEBUG:pipecat:<generator object broken_metronome at 0x10ace4eb0> record {}\n",
      "DEBUG:pipecat:<generator object timeout at 0x10ace4f50> record {}\n",
      "INFO:pipecat:Iteration stopped by 3 second timeout.\n",
      "DEBUG:pipecat:<generator object timeout at 0x10ace4f50> finished\n",
      "DEBUG:pipecat:<generator object broken_metronome at 0x10ace4eb0> record {}\n",
      "DEBUG:pipecat:<generator object broken_metronome at 0x10ace4eb0> finished\n"
     ]
    }
   ],
   "source": [
    "pipe = broken_metronome()\n",
    "pipe = pipecat.utility.trace(pipe)\n",
    "pipe = pipecat.limit.timeout(pipe, pipecat.quantity(3, pipecat.units.seconds))\n",
    "pipe = pipecat.utility.trace(pipe)\n",
    "\n",
    "for record in pipe:\n",
    "    pass"
   ]
  },
  {
   "cell_type": "code",
   "execution_count": null,
   "metadata": {
    "collapsed": true
   },
   "outputs": [],
   "source": []
  }
 ],
 "metadata": {
  "anaconda-cloud": {},
  "kernelspec": {
   "display_name": "Python [default]",
   "language": "python",
   "name": "python2"
  },
  "language_info": {
   "codemirror_mode": {
    "name": "ipython",
    "version": 2
   },
   "file_extension": ".py",
   "mimetype": "text/x-python",
   "name": "python",
   "nbconvert_exporter": "python",
   "pygments_lexer": "ipython2",
   "version": "2.7.12"
  }
 },
 "nbformat": 4,
 "nbformat_minor": 1
}
