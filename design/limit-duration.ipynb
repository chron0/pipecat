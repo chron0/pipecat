{
 "cells": [
  {
   "cell_type": "code",
   "execution_count": 1,
   "metadata": {
    "collapsed": false
   },
   "outputs": [],
   "source": [
    "import logging\n",
    "logging.basicConfig(level=logging.DEBUG)\n",
    "\n",
    "import datacat.limit\n",
    "import datacat.source.time"
   ]
  },
  {
   "cell_type": "code",
   "execution_count": 2,
   "metadata": {
    "collapsed": false
   },
   "outputs": [
    {
     "name": "stdout",
     "output_type": "stream",
     "text": [
      "timestamp: 2016-11-30T04:00:26.478491+00:00\n",
      "\n",
      "timestamp: 2016-11-30T04:00:26.983558+00:00\n",
      "\n",
      "timestamp: 2016-11-30T04:00:27.488782+00:00\n",
      "\n",
      "timestamp: 2016-11-30T04:00:27.989040+00:00\n",
      "\n",
      "timestamp: 2016-11-30T04:00:28.490171+00:00\n",
      "\n",
      "timestamp: 2016-11-30T04:00:28.990500+00:00\n",
      "\n",
      "timestamp: 2016-11-30T04:00:29.491021+00:00\n",
      "\n",
      "timestamp: 2016-11-30T04:00:29.991289+00:00\n",
      "\n",
      "timestamp: 2016-11-30T04:00:30.491739+00:00\n",
      "\n",
      "timestamp: 2016-11-30T04:00:30.992053+00:00\n",
      "\n",
      "timestamp: 2016-11-30T04:00:31.492482+00:00\n",
      "\n",
      "timestamp: 2016-11-30T04:00:31.992884+00:00\n",
      "\n"
     ]
    },
    {
     "name": "stderr",
     "output_type": "stream",
     "text": [
      "INFO:datacat:Iteration stopped after 6 second time limit.\n"
     ]
    },
    {
     "name": "stdout",
     "output_type": "stream",
     "text": [
      "timestamp: 2016-11-30T04:00:32.493283+00:00\n",
      "\n"
     ]
    }
   ],
   "source": [
    "pipeline = datacat.source.time.metronome(rate=datacat.quantity(0.5, datacat.units.seconds))\n",
    "pipeline = datacat.source.time.timestamp(pipeline)\n",
    "pipeline = datacat.limit.duration(pipeline, duration=datacat.quantity(6, datacat.units.seconds))\n",
    "\n",
    "for record in pipeline:\n",
    "    datacat.dump(record)"
   ]
  }
 ],
 "metadata": {
  "anaconda-cloud": {},
  "kernelspec": {
   "display_name": "Python [default]",
   "language": "python",
   "name": "python2"
  },
  "language_info": {
   "codemirror_mode": {
    "name": "ipython",
    "version": 2
   },
   "file_extension": ".py",
   "mimetype": "text/x-python",
   "name": "python",
   "nbconvert_exporter": "python",
   "pygments_lexer": "ipython2",
   "version": "2.7.12"
  }
 },
 "nbformat": 4,
 "nbformat_minor": 1
}
