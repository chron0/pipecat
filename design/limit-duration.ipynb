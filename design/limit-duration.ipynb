{
 "cells": [
  {
   "cell_type": "code",
   "execution_count": 1,
   "metadata": {
    "collapsed": false
   },
   "outputs": [],
   "source": [
    "import logging\n",
    "logging.basicConfig(level=logging.DEBUG)\n",
    "\n",
    "import pipecat.device.clock\n",
    "import pipecat.limit\n",
    "import pipecat.record\n",
    "import pipecat.utility"
   ]
  },
  {
   "cell_type": "code",
   "execution_count": 2,
   "metadata": {
    "collapsed": false
   },
   "outputs": [
    {
     "name": "stdout",
     "output_type": "stream",
     "text": [
      "timestamp: 2016-12-06T06:33:31.633377+00:00\n",
      "\n",
      "timestamp: 2016-12-06T06:33:32.138212+00:00\n",
      "\n",
      "timestamp: 2016-12-06T06:33:32.639820+00:00\n",
      "\n",
      "timestamp: 2016-12-06T06:33:33.142289+00:00\n",
      "\n",
      "timestamp: 2016-12-06T06:33:33.642992+00:00\n",
      "\n",
      "timestamp: 2016-12-06T06:33:34.143606+00:00\n",
      "\n",
      "timestamp: 2016-12-06T06:33:34.648458+00:00\n",
      "\n",
      "timestamp: 2016-12-06T06:33:35.151751+00:00\n",
      "\n",
      "timestamp: 2016-12-06T06:33:35.652313+00:00\n",
      "\n",
      "timestamp: 2016-12-06T06:33:36.152598+00:00\n",
      "\n",
      "timestamp: 2016-12-06T06:33:36.652729+00:00\n",
      "\n",
      "timestamp: 2016-12-06T06:33:37.153394+00:00\n",
      "\n"
     ]
    },
    {
     "name": "stderr",
     "output_type": "stream",
     "text": [
      "INFO:pipecat:Iteration stopped after 6 second time limit.\n"
     ]
    },
    {
     "name": "stdout",
     "output_type": "stream",
     "text": [
      "timestamp: 2016-12-06T06:33:37.653530+00:00\n",
      "\n"
     ]
    }
   ],
   "source": [
    "pipe = pipecat.device.clock.metronome(rate=pipecat.quantity(0.5, pipecat.units.seconds))\n",
    "pipe = pipecat.utility.add_timestamp(pipe)\n",
    "pipe = pipecat.limit.duration(pipe, duration=pipecat.quantity(6, pipecat.units.seconds))\n",
    "\n",
    "for record in pipe:\n",
    "    pipecat.record.dump(record)"
   ]
  }
 ],
 "metadata": {
  "anaconda-cloud": {},
  "kernelspec": {
   "display_name": "Python [default]",
   "language": "python",
   "name": "python2"
  },
  "language_info": {
   "codemirror_mode": {
    "name": "ipython",
    "version": 2
   },
   "file_extension": ".py",
   "mimetype": "text/x-python",
   "name": "python",
   "nbconvert_exporter": "python",
   "pygments_lexer": "ipython2",
   "version": "2.7.12"
  }
 },
 "nbformat": 4,
 "nbformat_minor": 1
}
