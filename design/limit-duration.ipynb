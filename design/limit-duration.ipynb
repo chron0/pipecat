{
 "cells": [
  {
   "cell_type": "code",
   "execution_count": 1,
   "metadata": {
    "collapsed": false
   },
   "outputs": [],
   "source": [
    "import logging\n",
    "logging.basicConfig(level=logging.DEBUG)\n",
    "\n",
    "import pipecat.limit\n",
    "import pipecat.record\n",
    "import pipecat.source.time"
   ]
  },
  {
   "cell_type": "code",
   "execution_count": 2,
   "metadata": {
    "collapsed": false
   },
   "outputs": [
    {
     "name": "stdout",
     "output_type": "stream",
     "text": [
      "timestamp: 2016-11-30T05:34:44.858126+00:00\n",
      "\n",
      "timestamp: 2016-11-30T05:34:45.363217+00:00\n",
      "\n",
      "timestamp: 2016-11-30T05:34:45.864319+00:00\n",
      "\n",
      "timestamp: 2016-11-30T05:34:46.369453+00:00\n",
      "\n",
      "timestamp: 2016-11-30T05:34:46.871151+00:00\n",
      "\n",
      "timestamp: 2016-11-30T05:34:47.372374+00:00\n",
      "\n",
      "timestamp: 2016-11-30T05:34:47.877460+00:00\n",
      "\n",
      "timestamp: 2016-11-30T05:34:48.382629+00:00\n",
      "\n",
      "timestamp: 2016-11-30T05:34:48.886527+00:00\n",
      "\n",
      "timestamp: 2016-11-30T05:34:49.390103+00:00\n",
      "\n",
      "timestamp: 2016-11-30T05:34:49.890460+00:00\n",
      "\n",
      "timestamp: 2016-11-30T05:34:50.390865+00:00\n",
      "\n"
     ]
    },
    {
     "name": "stderr",
     "output_type": "stream",
     "text": [
      "INFO:pipecat:Iteration stopped after 6 second time limit.\n"
     ]
    },
    {
     "name": "stdout",
     "output_type": "stream",
     "text": [
      "timestamp: 2016-11-30T05:34:50.891224+00:00\n",
      "\n"
     ]
    }
   ],
   "source": [
    "pipeline = pipecat.source.time.metronome(rate=pipecat.quantity(0.5, pipecat.units.seconds))\n",
    "pipeline = pipecat.source.time.timestamp(pipeline)\n",
    "pipeline = pipecat.limit.duration(pipeline, duration=pipecat.quantity(6, pipecat.units.seconds))\n",
    "\n",
    "for record in pipeline:\n",
    "    pipecat.record.dump(record)"
   ]
  }
 ],
 "metadata": {
  "anaconda-cloud": {},
  "kernelspec": {
   "display_name": "Python [default]",
   "language": "python",
   "name": "python2"
  },
  "language_info": {
   "codemirror_mode": {
    "name": "ipython",
    "version": 2
   },
   "file_extension": ".py",
   "mimetype": "text/x-python",
   "name": "python",
   "nbconvert_exporter": "python",
   "pygments_lexer": "ipython2",
   "version": "2.7.12"
  }
 },
 "nbformat": 4,
 "nbformat_minor": 1
}
