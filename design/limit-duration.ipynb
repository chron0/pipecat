{
 "cells": [
  {
   "cell_type": "code",
   "execution_count": 1,
   "metadata": {
    "collapsed": false
   },
   "outputs": [],
   "source": [
    "import logging\n",
    "logging.basicConfig(level=logging.DEBUG)\n",
    "\n",
    "import datacat.limit\n",
    "import datacat.source.time"
   ]
  },
  {
   "cell_type": "code",
   "execution_count": 2,
   "metadata": {
    "collapsed": false
   },
   "outputs": [
    {
     "name": "stdout",
     "output_type": "stream",
     "text": [
      "timestamp: 2016-11-29T05:16:33.130205+00:00\n",
      "\n",
      "timestamp: 2016-11-29T05:16:33.630367+00:00\n",
      "\n",
      "timestamp: 2016-11-29T05:16:34.131663+00:00\n",
      "\n",
      "timestamp: 2016-11-29T05:16:34.632038+00:00\n",
      "\n",
      "timestamp: 2016-11-29T05:16:35.135628+00:00\n",
      "\n",
      "timestamp: 2016-11-29T05:16:35.640864+00:00\n",
      "\n",
      "timestamp: 2016-11-29T05:16:36.146050+00:00\n",
      "\n",
      "timestamp: 2016-11-29T05:16:36.650258+00:00\n",
      "\n",
      "timestamp: 2016-11-29T05:16:37.150641+00:00\n",
      "\n",
      "timestamp: 2016-11-29T05:16:37.652656+00:00\n",
      "\n",
      "timestamp: 2016-11-29T05:16:38.157834+00:00\n",
      "\n",
      "timestamp: 2016-11-29T05:16:38.662706+00:00\n",
      "\n"
     ]
    },
    {
     "name": "stderr",
     "output_type": "stream",
     "text": [
      "INFO:datacat:Stopped by 6 second time limit.\n"
     ]
    },
    {
     "name": "stdout",
     "output_type": "stream",
     "text": [
      "timestamp: 2016-11-29T05:16:39.167899+00:00\n",
      "\n"
     ]
    }
   ],
   "source": [
    "pipeline = datacat.source.time.metronome(rate=datacat.quantity(0.5, datacat.units.seconds))\n",
    "pipeline = datacat.source.time.timestamp(pipeline)\n",
    "pipeline = datacat.limit.duration(pipeline, duration=datacat.quantity(6, datacat.units.seconds))\n",
    "\n",
    "for record in pipeline:\n",
    "    datacat.dump(record)"
   ]
  }
 ],
 "metadata": {
  "anaconda-cloud": {},
  "kernelspec": {
   "display_name": "Python [default]",
   "language": "python",
   "name": "python2"
  },
  "language_info": {
   "codemirror_mode": {
    "name": "ipython",
    "version": 2
   },
   "file_extension": ".py",
   "mimetype": "text/x-python",
   "name": "python",
   "nbconvert_exporter": "python",
   "pygments_lexer": "ipython2",
   "version": "2.7.12"
  }
 },
 "nbformat": 4,
 "nbformat_minor": 1
}
