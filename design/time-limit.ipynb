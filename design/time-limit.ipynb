{
 "cells": [
  {
   "cell_type": "code",
   "execution_count": 1,
   "metadata": {
    "collapsed": false
   },
   "outputs": [],
   "source": [
    "import logging\n",
    "logging.basicConfig(level=logging.DEBUG)\n",
    "\n",
    "import datacat.source.time"
   ]
  },
  {
   "cell_type": "code",
   "execution_count": 2,
   "metadata": {
    "collapsed": false
   },
   "outputs": [
    {
     "name": "stdout",
     "output_type": "stream",
     "text": [
      "timestamp: 2016-11-26T05:00:46.553592+00:00\n",
      "\n",
      "timestamp: 2016-11-26T05:00:47.057678+00:00\n",
      "\n",
      "timestamp: 2016-11-26T05:00:47.557997+00:00\n",
      "\n",
      "timestamp: 2016-11-26T05:00:48.058450+00:00\n",
      "\n",
      "timestamp: 2016-11-26T05:00:48.558770+00:00\n",
      "\n",
      "timestamp: 2016-11-26T05:00:49.059257+00:00\n",
      "\n",
      "timestamp: 2016-11-26T05:00:49.559534+00:00\n",
      "\n",
      "timestamp: 2016-11-26T05:00:50.059987+00:00\n",
      "\n",
      "timestamp: 2016-11-26T05:00:50.560295+00:00\n",
      "\n",
      "timestamp: 2016-11-26T05:00:51.062222+00:00\n",
      "\n",
      "timestamp: 2016-11-26T05:00:51.567380+00:00\n",
      "\n",
      "timestamp: 2016-11-26T05:00:52.072596+00:00\n",
      "\n"
     ]
    },
    {
     "name": "stderr",
     "output_type": "stream",
     "text": [
      "INFO:datacat:Stopped by 6 second time limit.\n"
     ]
    },
    {
     "name": "stdout",
     "output_type": "stream",
     "text": [
      "timestamp: 2016-11-26T05:00:52.577820+00:00\n",
      "\n"
     ]
    }
   ],
   "source": [
    "pipeline = datacat.source.time.metronome(rate=datacat.quantity(0.5, datacat.units.seconds))\n",
    "pipeline = datacat.source.time.timestamp(pipeline)\n",
    "pipeline = datacat.source.time.limit(pipeline, duration=datacat.quantity(6, datacat.units.seconds))\n",
    "\n",
    "for observation in pipeline:\n",
    "    datacat.dump(observation)"
   ]
  }
 ],
 "metadata": {
  "anaconda-cloud": {},
  "kernelspec": {
   "display_name": "Python [default]",
   "language": "python",
   "name": "python2"
  },
  "language_info": {
   "codemirror_mode": {
    "name": "ipython",
    "version": 2
   },
   "file_extension": ".py",
   "mimetype": "text/x-python",
   "name": "python",
   "nbconvert_exporter": "python",
   "pygments_lexer": "ipython2",
   "version": "2.7.12"
  }
 },
 "nbformat": 4,
 "nbformat_minor": 1
}
