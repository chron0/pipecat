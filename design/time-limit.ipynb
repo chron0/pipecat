{
 "cells": [
  {
   "cell_type": "code",
   "execution_count": 1,
   "metadata": {
    "collapsed": false
   },
   "outputs": [],
   "source": [
    "import logging\n",
    "logging.basicConfig(level=logging.DEBUG)\n",
    "\n",
    "import datacat.source.time"
   ]
  },
  {
   "cell_type": "code",
   "execution_count": 2,
   "metadata": {
    "collapsed": false
   },
   "outputs": [
    {
     "name": "stdout",
     "output_type": "stream",
     "text": [
      "timestamp: 2016-11-29T04:11:53.571693+00:00\n",
      "\n",
      "timestamp: 2016-11-29T04:11:54.072066+00:00\n",
      "\n",
      "timestamp: 2016-11-29T04:11:54.575732+00:00\n",
      "\n",
      "timestamp: 2016-11-29T04:11:55.080847+00:00\n",
      "\n",
      "timestamp: 2016-11-29T04:11:55.583120+00:00\n",
      "\n",
      "timestamp: 2016-11-29T04:11:56.084570+00:00\n",
      "\n",
      "timestamp: 2016-11-29T04:11:56.587575+00:00\n",
      "\n",
      "timestamp: 2016-11-29T04:11:57.089461+00:00\n",
      "\n",
      "timestamp: 2016-11-29T04:11:57.594629+00:00\n",
      "\n",
      "timestamp: 2016-11-29T04:11:58.099797+00:00\n",
      "\n",
      "timestamp: 2016-11-29T04:11:58.601539+00:00\n",
      "\n",
      "timestamp: 2016-11-29T04:11:59.102502+00:00\n",
      "\n"
     ]
    },
    {
     "name": "stderr",
     "output_type": "stream",
     "text": [
      "INFO:datacat:Stopped by 6 second time limit.\n"
     ]
    },
    {
     "name": "stdout",
     "output_type": "stream",
     "text": [
      "timestamp: 2016-11-29T04:11:59.602897+00:00\n",
      "\n"
     ]
    }
   ],
   "source": [
    "pipeline = datacat.source.time.metronome(rate=datacat.quantity(0.5, datacat.units.seconds))\n",
    "pipeline = datacat.source.time.timestamp(pipeline)\n",
    "pipeline = datacat.source.time.limit(pipeline, duration=datacat.quantity(6, datacat.units.seconds))\n",
    "\n",
    "for record in pipeline:\n",
    "    datacat.dump(record)"
   ]
  }
 ],
 "metadata": {
  "anaconda-cloud": {},
  "kernelspec": {
   "display_name": "Python [default]",
   "language": "python",
   "name": "python2"
  },
  "language_info": {
   "codemirror_mode": {
    "name": "ipython",
    "version": 2
   },
   "file_extension": ".py",
   "mimetype": "text/x-python",
   "name": "python",
   "nbconvert_exporter": "python",
   "pygments_lexer": "ipython2",
   "version": "2.7.12"
  }
 },
 "nbformat": 4,
 "nbformat_minor": 1
}
