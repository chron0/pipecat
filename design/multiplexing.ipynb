{
 "cells": [
  {
   "cell_type": "code",
   "execution_count": 1,
   "metadata": {
    "collapsed": false
   },
   "outputs": [],
   "source": [
    "import logging\n",
    "logging.basicConfig(level=logging.DEBUG)\n",
    "\n",
    "import pipecat.connect\n",
    "import pipecat.device.clock\n",
    "import pipecat.limit\n",
    "import pipecat.record\n",
    "import pipecat.utility"
   ]
  },
  {
   "cell_type": "code",
   "execution_count": 2,
   "metadata": {
    "collapsed": false
   },
   "outputs": [
    {
     "name": "stdout",
     "output_type": "stream",
     "text": [
      "id: a\n",
      "timestamp: 2016-12-06T06:32:26.326341+00:00\n",
      "\n",
      "id: b\n",
      "timestamp: 2016-12-06T06:32:26.326696+00:00\n",
      "\n",
      "id: a\n",
      "timestamp: 2016-12-06T06:32:26.576770+00:00\n",
      "\n",
      "id: a\n",
      "timestamp: 2016-12-06T06:32:26.829274+00:00\n",
      "\n",
      "id: a\n",
      "timestamp: 2016-12-06T06:32:27.079391+00:00\n",
      "\n",
      "id: b\n",
      "timestamp: 2016-12-06T06:32:27.330572+00:00\n",
      "\n",
      "id: a\n",
      "timestamp: 2016-12-06T06:32:27.333998+00:00\n",
      "\n",
      "id: a\n",
      "timestamp: 2016-12-06T06:32:27.586940+00:00\n",
      "\n",
      "id: a\n",
      "timestamp: 2016-12-06T06:32:27.838739+00:00\n",
      "\n"
     ]
    },
    {
     "name": "stderr",
     "output_type": "stream",
     "text": [
      "INFO:pipecat:Iteration stopped after 10 records.\n"
     ]
    },
    {
     "name": "stdout",
     "output_type": "stream",
     "text": [
      "id: a\n",
      "timestamp: 2016-12-06T06:32:28.090908+00:00\n",
      "\n"
     ]
    }
   ],
   "source": [
    "a = pipecat.device.clock.metronome(pipecat.quantity(.25, pipecat.units.seconds))\n",
    "a = pipecat.utility.add_field(a, \"id\", \"a\")\n",
    "a = pipecat.utility.add_timestamp(a)\n",
    "\n",
    "b = pipecat.device.clock.metronome(pipecat.quantity(1, pipecat.units.seconds))\n",
    "b = pipecat.utility.add_field(b, \"id\", \"b\")\n",
    "b = pipecat.utility.add_timestamp(b)\n",
    "\n",
    "pipe = pipecat.connect.multiplex(a, b)\n",
    "pipe = pipecat.limit.count(pipe, count=10)\n",
    "\n",
    "for record in pipe:\n",
    "    pipecat.record.dump(record)"
   ]
  },
  {
   "cell_type": "code",
   "execution_count": null,
   "metadata": {
    "collapsed": true
   },
   "outputs": [],
   "source": []
  }
 ],
 "metadata": {
  "anaconda-cloud": {},
  "kernelspec": {
   "display_name": "Python [default]",
   "language": "python",
   "name": "python2"
  },
  "language_info": {
   "codemirror_mode": {
    "name": "ipython",
    "version": 2
   },
   "file_extension": ".py",
   "mimetype": "text/x-python",
   "name": "python",
   "nbconvert_exporter": "python",
   "pygments_lexer": "ipython2",
   "version": "2.7.12"
  }
 },
 "nbformat": 4,
 "nbformat_minor": 1
}
