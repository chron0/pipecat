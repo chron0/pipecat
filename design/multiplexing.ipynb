{
 "cells": [
  {
   "cell_type": "code",
   "execution_count": 1,
   "metadata": {
    "collapsed": false
   },
   "outputs": [],
   "source": [
    "import logging\n",
    "logging.basicConfig(level=logging.DEBUG)\n",
    "\n",
    "import datacat.limit\n",
    "import datacat.source.time"
   ]
  },
  {
   "cell_type": "code",
   "execution_count": 2,
   "metadata": {
    "collapsed": false
   },
   "outputs": [
    {
     "name": "stdout",
     "output_type": "stream",
     "text": [
      "id: a\n",
      "timestamp: 2016-11-30T04:13:39.956318+00:00\n",
      "\n",
      "id: b\n",
      "timestamp: 2016-11-30T04:13:39.956545+00:00\n",
      "\n",
      "id: a\n",
      "timestamp: 2016-11-30T04:13:40.207573+00:00\n",
      "\n",
      "id: a\n",
      "timestamp: 2016-11-30T04:13:40.460337+00:00\n",
      "\n",
      "id: a\n",
      "timestamp: 2016-11-30T04:13:40.715287+00:00\n",
      "\n",
      "id: b\n",
      "timestamp: 2016-11-30T04:13:40.961634+00:00\n",
      "\n",
      "id: a\n",
      "timestamp: 2016-11-30T04:13:40.966530+00:00\n",
      "\n",
      "id: a\n",
      "timestamp: 2016-11-30T04:13:41.217687+00:00\n",
      "\n",
      "id: a\n",
      "timestamp: 2016-11-30T04:13:41.472898+00:00\n",
      "\n"
     ]
    },
    {
     "name": "stderr",
     "output_type": "stream",
     "text": [
      "INFO:datacat:Iteration stopped after 10 records.\n"
     ]
    },
    {
     "name": "stdout",
     "output_type": "stream",
     "text": [
      "id: a\n",
      "timestamp: 2016-11-30T04:13:41.727595+00:00\n",
      "\n"
     ]
    }
   ],
   "source": [
    "a = datacat.source.time.metronome(datacat.quantity(.25, datacat.units.seconds))\n",
    "a = datacat.source.add(a, \"id\", \"a\")\n",
    "a = datacat.source.time.timestamp(a)\n",
    "\n",
    "b = datacat.source.time.metronome(datacat.quantity(1, datacat.units.seconds))\n",
    "b = datacat.source.add(b, \"id\", \"b\")\n",
    "b = datacat.source.time.timestamp(b)\n",
    "\n",
    "pipeline = datacat.source.multiplex(a, b)\n",
    "pipeline = datacat.limit.count(pipeline, count=10)\n",
    "\n",
    "for record in pipeline:\n",
    "    datacat.dump(record)"
   ]
  },
  {
   "cell_type": "code",
   "execution_count": null,
   "metadata": {
    "collapsed": true
   },
   "outputs": [],
   "source": []
  }
 ],
 "metadata": {
  "anaconda-cloud": {},
  "kernelspec": {
   "display_name": "Python [default]",
   "language": "python",
   "name": "python2"
  },
  "language_info": {
   "codemirror_mode": {
    "name": "ipython",
    "version": 2
   },
   "file_extension": ".py",
   "mimetype": "text/x-python",
   "name": "python",
   "nbconvert_exporter": "python",
   "pygments_lexer": "ipython2",
   "version": "2.7.12"
  }
 },
 "nbformat": 4,
 "nbformat_minor": 1
}
