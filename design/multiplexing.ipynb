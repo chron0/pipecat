{
 "cells": [
  {
   "cell_type": "code",
   "execution_count": 1,
   "metadata": {
    "collapsed": false
   },
   "outputs": [],
   "source": [
    "import logging\n",
    "logging.basicConfig(level=logging.DEBUG)\n",
    "\n",
    "import datacat.source.time"
   ]
  },
  {
   "cell_type": "code",
   "execution_count": 2,
   "metadata": {
    "collapsed": false
   },
   "outputs": [
    {
     "name": "stdout",
     "output_type": "stream",
     "text": [
      "id: a\n",
      "timestamp: 2016-11-29T04:10:25.413664+00:00\n",
      "\n",
      "id: b\n",
      "timestamp: 2016-11-29T04:10:25.414444+00:00\n",
      "\n",
      "id: a\n",
      "timestamp: 2016-11-29T04:10:26.416636+00:00\n",
      "\n",
      "id: a\n",
      "timestamp: 2016-11-29T04:10:27.417272+00:00\n",
      "\n",
      "id: b\n",
      "timestamp: 2016-11-29T04:10:28.417484+00:00\n",
      "\n",
      "id: a\n",
      "timestamp: 2016-11-29T04:10:28.417729+00:00\n",
      "\n",
      "id: a\n",
      "timestamp: 2016-11-29T04:10:29.418162+00:00\n",
      "\n",
      "id: a\n",
      "timestamp: 2016-11-29T04:10:30.418440+00:00\n",
      "\n"
     ]
    },
    {
     "name": "stderr",
     "output_type": "stream",
     "text": [
      "INFO:datacat:Stopped by 10 record limit.\n"
     ]
    },
    {
     "name": "stdout",
     "output_type": "stream",
     "text": [
      "id: b\n",
      "timestamp: 2016-11-29T04:10:31.418555+00:00\n",
      "\n",
      "id: a\n",
      "timestamp: 2016-11-29T04:10:31.418710+00:00\n",
      "\n"
     ]
    }
   ],
   "source": [
    "a = datacat.source.time.metronome()\n",
    "a = datacat.source.add(a, \"id\", \"a\")\n",
    "a = datacat.source.time.timestamp(a)\n",
    "\n",
    "b = datacat.source.time.metronome(datacat.quantity(3, datacat.units.seconds))\n",
    "b = datacat.source.add(b, \"id\", \"b\")\n",
    "b = datacat.source.time.timestamp(b)\n",
    "\n",
    "pipeline = datacat.source.multiplex(a, b)\n",
    "pipeline = datacat.source.limit(pipeline, count=10)\n",
    "\n",
    "for record in pipeline:\n",
    "    datacat.dump(record)"
   ]
  },
  {
   "cell_type": "code",
   "execution_count": null,
   "metadata": {
    "collapsed": true
   },
   "outputs": [],
   "source": []
  }
 ],
 "metadata": {
  "anaconda-cloud": {},
  "kernelspec": {
   "display_name": "Python [default]",
   "language": "python",
   "name": "python2"
  },
  "language_info": {
   "codemirror_mode": {
    "name": "ipython",
    "version": 2
   },
   "file_extension": ".py",
   "mimetype": "text/x-python",
   "name": "python",
   "nbconvert_exporter": "python",
   "pygments_lexer": "ipython2",
   "version": "2.7.12"
  }
 },
 "nbformat": 4,
 "nbformat_minor": 1
}
