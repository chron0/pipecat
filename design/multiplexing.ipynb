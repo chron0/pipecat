{
 "cells": [
  {
   "cell_type": "code",
   "execution_count": 1,
   "metadata": {
    "collapsed": false
   },
   "outputs": [],
   "source": [
    "import logging\n",
    "logging.basicConfig(level=logging.DEBUG)\n",
    "\n",
    "import pipecat.limit\n",
    "import pipecat.record\n",
    "import pipecat.source.time"
   ]
  },
  {
   "cell_type": "code",
   "execution_count": 2,
   "metadata": {
    "collapsed": false
   },
   "outputs": [
    {
     "name": "stdout",
     "output_type": "stream",
     "text": [
      "id: a\n",
      "timestamp: 2016-12-02T02:08:58.444360+00:00\n",
      "\n",
      "id: b\n",
      "timestamp: 2016-12-02T02:08:58.444797+00:00\n",
      "\n",
      "id: a\n",
      "timestamp: 2016-12-02T02:08:58.696538+00:00\n",
      "\n",
      "id: a\n",
      "timestamp: 2016-12-02T02:08:58.950748+00:00\n",
      "\n",
      "id: a\n",
      "timestamp: 2016-12-02T02:08:59.202403+00:00\n",
      "\n",
      "id: b\n",
      "timestamp: 2016-12-02T02:08:59.446622+00:00\n",
      "\n",
      "id: a\n",
      "timestamp: 2016-12-02T02:08:59.453843+00:00\n",
      "\n",
      "id: a\n",
      "timestamp: 2016-12-02T02:08:59.708181+00:00\n",
      "\n",
      "id: a\n",
      "timestamp: 2016-12-02T02:08:59.960950+00:00\n",
      "\n"
     ]
    },
    {
     "name": "stderr",
     "output_type": "stream",
     "text": [
      "INFO:pipecat:Iteration stopped after 10 records.\n"
     ]
    },
    {
     "name": "stdout",
     "output_type": "stream",
     "text": [
      "id: a\n",
      "timestamp: 2016-12-02T02:09:00.211307+00:00\n",
      "\n"
     ]
    }
   ],
   "source": [
    "a = pipecat.source.time.metronome(pipecat.quantity(.25, pipecat.units.seconds))\n",
    "a = pipecat.source.add(a, \"id\", \"a\")\n",
    "a = pipecat.source.time.timestamp(a)\n",
    "\n",
    "b = pipecat.source.time.metronome(pipecat.quantity(1, pipecat.units.seconds))\n",
    "b = pipecat.source.add(b, \"id\", \"b\")\n",
    "b = pipecat.source.time.timestamp(b)\n",
    "\n",
    "pipeline = pipecat.source.multiplex(a, b)\n",
    "pipeline = pipecat.limit.count(pipeline, count=10)\n",
    "\n",
    "for record in pipeline:\n",
    "    pipecat.record.dump(record)"
   ]
  },
  {
   "cell_type": "code",
   "execution_count": null,
   "metadata": {
    "collapsed": true
   },
   "outputs": [],
   "source": []
  }
 ],
 "metadata": {
  "anaconda-cloud": {},
  "kernelspec": {
   "display_name": "Python [default]",
   "language": "python",
   "name": "python2"
  },
  "language_info": {
   "codemirror_mode": {
    "name": "ipython",
    "version": 2
   },
   "file_extension": ".py",
   "mimetype": "text/x-python",
   "name": "python",
   "nbconvert_exporter": "python",
   "pygments_lexer": "ipython2",
   "version": "2.7.12"
  }
 },
 "nbformat": 4,
 "nbformat_minor": 1
}
