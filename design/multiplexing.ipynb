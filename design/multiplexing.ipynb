{
 "cells": [
  {
   "cell_type": "code",
   "execution_count": 1,
   "metadata": {
    "collapsed": false
   },
   "outputs": [],
   "source": [
    "import logging\n",
    "logging.basicConfig(level=logging.DEBUG)\n",
    "\n",
    "import datacat.source.time"
   ]
  },
  {
   "cell_type": "code",
   "execution_count": 2,
   "metadata": {
    "collapsed": false
   },
   "outputs": [
    {
     "name": "stdout",
     "output_type": "stream",
     "text": [
      "id: a\n",
      "timestamp: 2016-11-25T20:33:33.983053+00:00\n",
      "\n",
      "id: b\n",
      "timestamp: 2016-11-25T20:33:33.983685+00:00\n",
      "\n",
      "id: a\n",
      "timestamp: 2016-11-25T20:33:34.985391+00:00\n",
      "\n",
      "id: a\n",
      "timestamp: 2016-11-25T20:33:35.985593+00:00\n",
      "\n",
      "id: b\n",
      "timestamp: 2016-11-25T20:33:36.986054+00:00\n",
      "\n",
      "id: a\n",
      "timestamp: 2016-11-25T20:33:36.986510+00:00\n",
      "\n",
      "id: a\n",
      "timestamp: 2016-11-25T20:33:37.986795+00:00\n",
      "\n",
      "id: a\n",
      "timestamp: 2016-11-25T20:33:38.986981+00:00\n",
      "\n",
      "id: b\n",
      "timestamp: 2016-11-25T20:33:39.988437+00:00\n",
      "\n",
      "id: a\n",
      "timestamp: 2016-11-25T20:33:39.988660+00:00\n",
      "\n"
     ]
    }
   ],
   "source": [
    "a = datacat.source.time.metronome()\n",
    "a = datacat.source.add(a, \"id\", \"a\")\n",
    "a = datacat.source.time.timestamp(a)\n",
    "\n",
    "b = datacat.source.time.metronome(datacat.quantity(3, datacat.units.seconds))\n",
    "b = datacat.source.add(b, \"id\", \"b\")\n",
    "b = datacat.source.time.timestamp(b)\n",
    "\n",
    "pipeline = datacat.source.multiplex(a, b)\n",
    "pipeline = datacat.source.limit(pipeline, count=10)\n",
    "\n",
    "for observation in pipeline:\n",
    "    datacat.dump(observation)"
   ]
  },
  {
   "cell_type": "code",
   "execution_count": null,
   "metadata": {
    "collapsed": true
   },
   "outputs": [],
   "source": []
  }
 ],
 "metadata": {
  "anaconda-cloud": {},
  "kernelspec": {
   "display_name": "Python [default]",
   "language": "python",
   "name": "python2"
  },
  "language_info": {
   "codemirror_mode": {
    "name": "ipython",
    "version": 2
   },
   "file_extension": ".py",
   "mimetype": "text/x-python",
   "name": "python",
   "nbconvert_exporter": "python",
   "pygments_lexer": "ipython2",
   "version": "2.7.12"
  }
 },
 "nbformat": 4,
 "nbformat_minor": 1
}
