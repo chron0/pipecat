{
 "cells": [
  {
   "cell_type": "code",
   "execution_count": 1,
   "metadata": {
    "collapsed": false
   },
   "outputs": [],
   "source": [
    "import logging\n",
    "logging.basicConfig(level=logging.DEBUG)\n",
    "\n",
    "import datacat.limit\n",
    "import datacat.source.time"
   ]
  },
  {
   "cell_type": "code",
   "execution_count": 2,
   "metadata": {
    "collapsed": false
   },
   "outputs": [
    {
     "name": "stdout",
     "output_type": "stream",
     "text": [
      "id: a\n",
      "timestamp: 2016-11-30T04:02:11.610382+00:00\n",
      "\n",
      "id: b\n",
      "timestamp: 2016-11-30T04:02:11.610671+00:00\n",
      "\n",
      "id: a\n",
      "timestamp: 2016-11-30T04:02:12.612649+00:00\n",
      "\n",
      "id: a\n",
      "timestamp: 2016-11-30T04:02:13.617729+00:00\n",
      "\n",
      "id: b\n",
      "timestamp: 2016-11-30T04:02:14.615607+00:00\n",
      "\n",
      "id: a\n",
      "timestamp: 2016-11-30T04:02:14.618661+00:00\n",
      "\n",
      "id: a\n",
      "timestamp: 2016-11-30T04:02:15.622515+00:00\n",
      "\n",
      "id: a\n",
      "timestamp: 2016-11-30T04:02:16.623274+00:00\n",
      "\n"
     ]
    },
    {
     "name": "stderr",
     "output_type": "stream",
     "text": [
      "INFO:datacat:Iteration stopped after 10 records.\n"
     ]
    },
    {
     "name": "stdout",
     "output_type": "stream",
     "text": [
      "id: b\n",
      "timestamp: 2016-11-30T04:02:17.620633+00:00\n",
      "\n",
      "id: a\n",
      "timestamp: 2016-11-30T04:02:17.624028+00:00\n",
      "\n"
     ]
    }
   ],
   "source": [
    "a = datacat.source.time.metronome()\n",
    "a = datacat.source.add(a, \"id\", \"a\")\n",
    "a = datacat.source.time.timestamp(a)\n",
    "\n",
    "b = datacat.source.time.metronome(datacat.quantity(3, datacat.units.seconds))\n",
    "b = datacat.source.add(b, \"id\", \"b\")\n",
    "b = datacat.source.time.timestamp(b)\n",
    "\n",
    "pipeline = datacat.source.multiplex(a, b)\n",
    "pipeline = datacat.limit.count(pipeline, count=10)\n",
    "\n",
    "for record in pipeline:\n",
    "    datacat.dump(record)"
   ]
  },
  {
   "cell_type": "code",
   "execution_count": null,
   "metadata": {
    "collapsed": true
   },
   "outputs": [],
   "source": []
  }
 ],
 "metadata": {
  "anaconda-cloud": {},
  "kernelspec": {
   "display_name": "Python [default]",
   "language": "python",
   "name": "python2"
  },
  "language_info": {
   "codemirror_mode": {
    "name": "ipython",
    "version": 2
   },
   "file_extension": ".py",
   "mimetype": "text/x-python",
   "name": "python",
   "nbconvert_exporter": "python",
   "pygments_lexer": "ipython2",
   "version": "2.7.12"
  }
 },
 "nbformat": 4,
 "nbformat_minor": 1
}
