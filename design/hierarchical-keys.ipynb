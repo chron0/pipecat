{
 "cells": [
  {
   "cell_type": "code",
   "execution_count": 1,
   "metadata": {
    "collapsed": false
   },
   "outputs": [],
   "source": [
    "import logging\n",
    "logging.basicConfig(level=logging.DEBUG)\n",
    "\n",
    "import serial\n",
    "\n",
    "import datacat.limit\n",
    "import datacat.source.charger\n",
    "import datacat.source.time"
   ]
  },
  {
   "cell_type": "code",
   "execution_count": 2,
   "metadata": {
    "collapsed": false
   },
   "outputs": [
    {
     "name": "stdout",
     "output_type": "stream",
     "text": [
      "timestamp: 2016-11-30T03:59:59.071362+00:00\n",
      "battery/charge: 0.0 hour * milliampere\n",
      "battery/current: 0.0 milliampere\n",
      "battery/voltage: 4.086 volt\n",
      "charger/mode: monitor\n",
      "charger/supply: 12.281 volt\n",
      "charger/temperature/external: 21.8 degC\n",
      "charger/temperature/internal: 28.2 degC\n",
      "\n",
      "timestamp: 2016-11-30T04:00:01.071613+00:00\n",
      "battery/charge: 0.0 hour * milliampere\n",
      "battery/current: 0.0 milliampere\n",
      "battery/voltage: 4.086 volt\n",
      "charger/mode: monitor\n",
      "charger/supply: 12.281 volt\n",
      "charger/temperature/external: 21.8 degC\n",
      "charger/temperature/internal: 28.2 degC\n",
      "\n"
     ]
    },
    {
     "name": "stderr",
     "output_type": "stream",
     "text": [
      "INFO:datacat:Iteration stopped after 3 records.\n"
     ]
    },
    {
     "name": "stdout",
     "output_type": "stream",
     "text": [
      "timestamp: 2016-11-30T04:00:03.076723+00:00\n",
      "battery/charge: 0.0 hour * milliampere\n",
      "battery/current: 0.0 milliampere\n",
      "battery/voltage: 4.086 volt\n",
      "charger/mode: monitor\n",
      "charger/supply: 12.281 volt\n",
      "charger/temperature/external: 21.8 degC\n",
      "charger/temperature/internal: 28.2 degC\n",
      "\n"
     ]
    }
   ],
   "source": [
    "pipeline = datacat.source.charger.icharger208b(serial.serial_for_url(\"/dev/cu.SLAB_USBtoUART\", baudrate=128000))\n",
    "pipeline = datacat.source.time.timestamp(pipeline)\n",
    "pipeline = datacat.limit.count(pipeline, count=3)\n",
    "\n",
    "for record in pipeline:\n",
    "    datacat.dump(record)"
   ]
  }
 ],
 "metadata": {
  "anaconda-cloud": {},
  "kernelspec": {
   "display_name": "Python [default]",
   "language": "python",
   "name": "python2"
  },
  "language_info": {
   "codemirror_mode": {
    "name": "ipython",
    "version": 2
   },
   "file_extension": ".py",
   "mimetype": "text/x-python",
   "name": "python",
   "nbconvert_exporter": "python",
   "pygments_lexer": "ipython2",
   "version": "2.7.12"
  }
 },
 "nbformat": 4,
 "nbformat_minor": 1
}
