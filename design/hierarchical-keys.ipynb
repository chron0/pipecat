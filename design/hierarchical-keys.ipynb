{
 "cells": [
  {
   "cell_type": "code",
   "execution_count": 1,
   "metadata": {
    "collapsed": false
   },
   "outputs": [],
   "source": [
    "import logging\n",
    "logging.basicConfig(level=logging.DEBUG)\n",
    "\n",
    "import serial\n",
    "\n",
    "import datacat.source.charger\n",
    "import datacat.source.time"
   ]
  },
  {
   "cell_type": "code",
   "execution_count": 2,
   "metadata": {
    "collapsed": false
   },
   "outputs": [
    {
     "name": "stdout",
     "output_type": "stream",
     "text": [
      "timestamp: 2016-11-25T17:55:47.223593+00:00\n",
      "battery/charge: 0.0 hour * milliampere\n",
      "battery/current: 0.0 milliampere\n",
      "battery/voltage: 3.932 volt\n",
      "charger/mode: Monitor\n",
      "charger/supply: 12.281 volt\n",
      "charger/temperature/external: 22.6 degC\n",
      "charger/temperature/internal: 30.1 degC\n",
      "\n",
      "timestamp: 2016-11-25T17:55:49.241485+00:00\n",
      "battery/charge: 0.0 hour * milliampere\n",
      "battery/current: 0.0 milliampere\n",
      "battery/voltage: 3.932 volt\n",
      "charger/mode: Monitor\n",
      "charger/supply: 12.281 volt\n",
      "charger/temperature/external: 22.6 degC\n",
      "charger/temperature/internal: 30.1 degC\n",
      "\n",
      "timestamp: 2016-11-25T17:55:51.261752+00:00\n",
      "battery/charge: 0.0 hour * milliampere\n",
      "battery/current: 0.0 milliampere\n",
      "battery/voltage: 3.939 volt\n",
      "charger/mode: Monitor\n",
      "charger/supply: 12.281 volt\n",
      "charger/temperature/external: 22.6 degC\n",
      "charger/temperature/internal: 30.1 degC\n",
      "\n"
     ]
    }
   ],
   "source": [
    "pipeline = datacat.source.charger.icharger208b(serial.serial_for_url(\"/dev/cu.SLAB_USBtoUART\", baudrate=128000))\n",
    "pipeline = datacat.source.time.timestamp(pipeline)\n",
    "pipeline = datacat.source.limit(pipeline, count=3)\n",
    "\n",
    "for observation in pipeline:\n",
    "    datacat.pprint(observation)"
   ]
  }
 ],
 "metadata": {
  "anaconda-cloud": {},
  "kernelspec": {
   "display_name": "Python [default]",
   "language": "python",
   "name": "python2"
  },
  "language_info": {
   "codemirror_mode": {
    "name": "ipython",
    "version": 2
   },
   "file_extension": ".py",
   "mimetype": "text/x-python",
   "name": "python",
   "nbconvert_exporter": "python",
   "pygments_lexer": "ipython2",
   "version": "2.7.12"
  }
 },
 "nbformat": 4,
 "nbformat_minor": 1
}
