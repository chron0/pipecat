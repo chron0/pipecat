{
 "cells": [
  {
   "cell_type": "code",
   "execution_count": 1,
   "metadata": {
    "collapsed": false
   },
   "outputs": [],
   "source": [
    "import logging\n",
    "logging.basicConfig(level=logging.DEBUG)\n",
    "\n",
    "import serial\n",
    "\n",
    "import pipecat.device.charger\n",
    "import pipecat.limit\n",
    "import pipecat.record\n",
    "import pipecat.source.time"
   ]
  },
  {
   "cell_type": "code",
   "execution_count": 2,
   "metadata": {
    "collapsed": false
   },
   "outputs": [
    {
     "name": "stdout",
     "output_type": "stream",
     "text": [
      "timestamp: 2016-12-02T04:52:37.582686+00:00\n",
      "battery/charge: 0.0 hour * milliampere\n",
      "battery/current: 0.0 milliampere\n",
      "battery/voltage: 0.0 volt\n",
      "charger/mode: monitor\n",
      "charger/supply: 12.218 volt\n",
      "charger/temperature/external: 20.9 degC\n",
      "charger/temperature/internal: 21.3 degC\n",
      "\n",
      "timestamp: 2016-12-02T04:52:39.600142+00:00\n",
      "battery/charge: 0.0 hour * milliampere\n",
      "battery/current: 0.0 milliampere\n",
      "battery/voltage: 0.0 volt\n",
      "charger/mode: monitor\n",
      "charger/supply: 12.218 volt\n",
      "charger/temperature/external: 20.9 degC\n",
      "charger/temperature/internal: 21.1 degC\n",
      "\n"
     ]
    },
    {
     "name": "stderr",
     "output_type": "stream",
     "text": [
      "INFO:pipecat:Iteration stopped after 3 records.\n"
     ]
    },
    {
     "name": "stdout",
     "output_type": "stream",
     "text": [
      "timestamp: 2016-12-02T04:52:41.618419+00:00\n",
      "battery/charge: 0.0 hour * milliampere\n",
      "battery/current: 0.0 milliampere\n",
      "battery/voltage: 0.0 volt\n",
      "charger/mode: monitor\n",
      "charger/supply: 12.218 volt\n",
      "charger/temperature/external: 20.9 degC\n",
      "charger/temperature/internal: 21.1 degC\n",
      "\n"
     ]
    }
   ],
   "source": [
    "pipeline = pipecat.device.charger.icharger208b(serial.serial_for_url(\"/dev/cu.SLAB_USBtoUART\", baudrate=128000))\n",
    "pipeline = pipecat.source.time.timestamp(pipeline)\n",
    "pipeline = pipecat.limit.count(pipeline, count=3)\n",
    "\n",
    "for record in pipeline:\n",
    "    pipecat.record.dump(record)"
   ]
  }
 ],
 "metadata": {
  "anaconda-cloud": {},
  "kernelspec": {
   "display_name": "Python [default]",
   "language": "python",
   "name": "python2"
  },
  "language_info": {
   "codemirror_mode": {
    "name": "ipython",
    "version": 2
   },
   "file_extension": ".py",
   "mimetype": "text/x-python",
   "name": "python",
   "nbconvert_exporter": "python",
   "pygments_lexer": "ipython2",
   "version": "2.7.12"
  }
 },
 "nbformat": 4,
 "nbformat_minor": 1
}
