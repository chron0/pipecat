{
 "cells": [
  {
   "cell_type": "code",
   "execution_count": 1,
   "metadata": {
    "collapsed": false
   },
   "outputs": [],
   "source": [
    "import logging\n",
    "logging.basicConfig(level=logging.DEBUG)\n",
    "\n",
    "import itertools\n",
    "import time\n",
    "\n",
    "import datacat.source.time"
   ]
  },
  {
   "cell_type": "code",
   "execution_count": 2,
   "metadata": {
    "collapsed": true
   },
   "outputs": [],
   "source": [
    "def broken_metronome():\n",
    "    for i in itertools.count():\n",
    "        yield {}\n",
    "        time.sleep(i)"
   ]
  },
  {
   "cell_type": "code",
   "execution_count": 3,
   "metadata": {
    "collapsed": false
   },
   "outputs": [
    {
     "name": "stdout",
     "output_type": "stream",
     "text": [
      "timestamp: 2016-11-26T04:58:17.369357+00:00\n",
      "\n",
      "timestamp: 2016-11-26T04:58:17.369543+00:00\n",
      "\n",
      "timestamp: 2016-11-26T04:58:18.374119+00:00\n",
      "\n",
      "timestamp: 2016-11-26T04:58:20.378311+00:00\n",
      "\n",
      "timestamp: 2016-11-26T04:58:23.380683+00:00\n",
      "\n",
      "timestamp: 2016-11-26T04:58:27.383368+00:00\n",
      "\n",
      "timestamp: 2016-11-26T04:58:32.385790+00:00\n",
      "\n"
     ]
    },
    {
     "name": "stderr",
     "output_type": "stream",
     "text": [
      "INFO:datacat:Stopped by 5 second timeout.\n"
     ]
    }
   ],
   "source": [
    "pipeline = broken_metronome()\n",
    "pipeline = datacat.source.time.timestamp(pipeline)\n",
    "pipeline = datacat.source.time.timeout(pipeline)\n",
    "\n",
    "for observation in pipeline:\n",
    "    datacat.dump(observation)"
   ]
  }
 ],
 "metadata": {
  "anaconda-cloud": {},
  "kernelspec": {
   "display_name": "Python [default]",
   "language": "python",
   "name": "python2"
  },
  "language_info": {
   "codemirror_mode": {
    "name": "ipython",
    "version": 2
   },
   "file_extension": ".py",
   "mimetype": "text/x-python",
   "name": "python",
   "nbconvert_exporter": "python",
   "pygments_lexer": "ipython2",
   "version": "2.7.12"
  }
 },
 "nbformat": 4,
 "nbformat_minor": 1
}
