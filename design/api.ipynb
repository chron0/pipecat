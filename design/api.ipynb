{
 "cells": [
  {
   "cell_type": "code",
   "execution_count": 1,
   "metadata": {
    "collapsed": false
   },
   "outputs": [],
   "source": [
    "import logging\n",
    "#logging.getLogger().setLevel(logging.DEBUG)\n",
    "logging.basicConfig(level=logging.DEBUG)\n",
    "\n",
    "import serial\n",
    "\n",
    "import datacat.source.charger\n",
    "import datacat.source.time"
   ]
  },
  {
   "cell_type": "code",
   "execution_count": 2,
   "metadata": {
    "collapsed": false
   },
   "outputs": [
    {
     "name": "stdout",
     "output_type": "stream",
     "text": [
      "timestamp: 2016-11-25T17:16:04.477291+00:00\n",
      "\n",
      "timestamp: 2016-11-25T17:16:05.477876+00:00\n",
      "\n",
      "timestamp: 2016-11-25T17:16:06.483515+00:00\n",
      "\n"
     ]
    }
   ],
   "source": [
    "pipeline = datacat.source.time.metronome()\n",
    "pipeline = datacat.source.time.timestamp(pipeline)\n",
    "pipeline = datacat.source.limit(pipeline, 3)\n",
    "\n",
    "for observation in pipeline:\n",
    "    datacat.pprint(observation)"
   ]
  },
  {
   "cell_type": "code",
   "execution_count": 3,
   "metadata": {
    "collapsed": false
   },
   "outputs": [
    {
     "name": "stdout",
     "output_type": "stream",
     "text": [
      "timestamp: 2016-11-25T17:16:06.490924+00:00\n",
      "\n",
      "timestamp: 2016-11-25T17:16:11.496082+00:00\n",
      "\n"
     ]
    }
   ],
   "source": [
    "pipeline = datacat.source.time.metronome(datacat.quantity(5, datacat.units.seconds))\n",
    "pipeline = datacat.source.time.timestamp(pipeline)\n",
    "pipeline = datacat.source.limit(pipeline, 2)\n",
    "\n",
    "for observation in pipeline:\n",
    "    datacat.pprint(observation)"
   ]
  },
  {
   "cell_type": "code",
   "execution_count": 4,
   "metadata": {
    "collapsed": false
   },
   "outputs": [
    {
     "name": "stderr",
     "output_type": "stream",
     "text": [
      "WARNING:datacat:Overwriting timestamp=2016-11-25T17:16:11.504061+00:00 with timestamp=2016-11-25T17:16:11.504078+00:00\n"
     ]
    },
    {
     "name": "stdout",
     "output_type": "stream",
     "text": [
      "timestamp: 2016-11-25T17:16:11.504078+00:00\n",
      "\n"
     ]
    },
    {
     "name": "stderr",
     "output_type": "stream",
     "text": [
      "WARNING:datacat:Overwriting timestamp=2016-11-25T17:16:12.508829+00:00 with timestamp=2016-11-25T17:16:12.508852+00:00\n"
     ]
    },
    {
     "name": "stdout",
     "output_type": "stream",
     "text": [
      "timestamp: 2016-11-25T17:16:12.508852+00:00\n",
      "\n"
     ]
    }
   ],
   "source": [
    "pipeline = datacat.source.time.metronome(datacat.quantity(1, datacat.units.seconds))\n",
    "pipeline = datacat.source.time.timestamp(pipeline)\n",
    "pipeline = datacat.source.time.timestamp(pipeline)\n",
    "pipeline = datacat.source.limit(pipeline, 2)\n",
    "\n",
    "for observation in pipeline:\n",
    "    datacat.pprint(observation)"
   ]
  },
  {
   "cell_type": "code",
   "execution_count": 5,
   "metadata": {
    "collapsed": false
   },
   "outputs": [
    {
     "name": "stdout",
     "output_type": "stream",
     "text": [
      "battery-voltage: 3.933 volt\n",
      "charge-amount: 0.0 hour * milliampere\n",
      "charge-current: 0.0 milliampere\n",
      "external-temperature: 22.3 degC\n",
      "internal-temperature: 27.7 degC\n",
      "mode: Monitor\n",
      "supply-voltage: 12.281 volt\n",
      "timestamp: 2016-11-25T17:16:14.124403+00:00\n",
      "\n",
      "battery-voltage: 3.935 volt\n",
      "charge-amount: 0.0 hour * milliampere\n",
      "charge-current: 0.0 milliampere\n",
      "external-temperature: 22.3 degC\n",
      "internal-temperature: 28.0 degC\n",
      "mode: Monitor\n",
      "supply-voltage: 12.281 volt\n",
      "timestamp: 2016-11-25T17:16:16.030303+00:00\n",
      "\n",
      "battery-voltage: 3.935 volt\n",
      "charge-amount: 0.0 hour * milliampere\n",
      "charge-current: 0.0 milliampere\n",
      "external-temperature: 22.3 degC\n",
      "internal-temperature: 28.0 degC\n",
      "mode: Monitor\n",
      "supply-voltage: 12.281 volt\n",
      "timestamp: 2016-11-25T17:16:18.049286+00:00\n",
      "\n"
     ]
    }
   ],
   "source": [
    "pipeline = datacat.source.charger.icharger208b(serial.serial_for_url(\"/dev/cu.SLAB_USBtoUART\", baudrate=128000))\n",
    "pipeline = datacat.source.time.timestamp(pipeline)\n",
    "pipeline = datacat.source.limit(pipeline, 3)\n",
    "\n",
    "for observation in pipeline:\n",
    "    datacat.pprint(observation)"
   ]
  },
  {
   "cell_type": "code",
   "execution_count": null,
   "metadata": {
    "collapsed": true
   },
   "outputs": [],
   "source": []
  }
 ],
 "metadata": {
  "anaconda-cloud": {},
  "kernelspec": {
   "display_name": "Python [default]",
   "language": "python",
   "name": "python2"
  },
  "language_info": {
   "codemirror_mode": {
    "name": "ipython",
    "version": 2
   },
   "file_extension": ".py",
   "mimetype": "text/x-python",
   "name": "python",
   "nbconvert_exporter": "python",
   "pygments_lexer": "ipython2",
   "version": "2.7.12"
  }
 },
 "nbformat": 4,
 "nbformat_minor": 1
}
