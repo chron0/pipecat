{
 "cells": [
  {
   "cell_type": "code",
   "execution_count": 1,
   "metadata": {
    "collapsed": false
   },
   "outputs": [],
   "source": [
    "import serial\n",
    "\n",
    "import datacat.source.charger\n",
    "import datacat.source.time"
   ]
  },
  {
   "cell_type": "code",
   "execution_count": 2,
   "metadata": {
    "collapsed": false
   },
   "outputs": [
    {
     "name": "stdout",
     "output_type": "stream",
     "text": [
      "timestamp: 2016-11-25T17:07:21.990200+00:00\n",
      "\n",
      "timestamp: 2016-11-25T17:07:22.995692+00:00\n",
      "\n",
      "timestamp: 2016-11-25T17:07:24.000923+00:00\n",
      "\n"
     ]
    }
   ],
   "source": [
    "pipeline = datacat.source.time.metronome()\n",
    "pipeline = datacat.source.time.timestamp(pipeline)\n",
    "pipeline = datacat.source.limit(pipeline, 3)\n",
    "\n",
    "for observation in pipeline:\n",
    "    datacat.pprint(observation)"
   ]
  },
  {
   "cell_type": "code",
   "execution_count": 3,
   "metadata": {
    "collapsed": false
   },
   "outputs": [
    {
     "name": "stdout",
     "output_type": "stream",
     "text": [
      "timestamp: 2016-11-25T17:07:24.008379+00:00\n",
      "\n",
      "timestamp: 2016-11-25T17:07:29.012371+00:00\n",
      "\n",
      "timestamp: 2016-11-25T17:07:34.016136+00:00\n",
      "\n"
     ]
    }
   ],
   "source": [
    "pipeline = datacat.source.time.metronome(datacat.quantity(5, datacat.units.seconds))\n",
    "pipeline = datacat.source.time.timestamp(pipeline)\n",
    "pipeline = datacat.source.limit(pipeline, 3)\n",
    "\n",
    "for observation in pipeline:\n",
    "    datacat.pprint(observation)"
   ]
  },
  {
   "cell_type": "code",
   "execution_count": 4,
   "metadata": {
    "collapsed": false
   },
   "outputs": [
    {
     "name": "stdout",
     "output_type": "stream",
     "text": [
      "battery-voltage: 3.932 volt\n",
      "charge-amount: 0.0 hour * milliampere\n",
      "charge-current: 0.0 milliampere\n",
      "external-temperature: 22.0 degC\n",
      "internal-temperature: 26.1 degC\n",
      "mode: Monitor\n",
      "supply-voltage: 12.281 volt\n",
      "timestamp: 2016-11-25T17:07:34.123232+00:00\n",
      "\n",
      "battery-voltage: 3.933 volt\n",
      "charge-amount: 0.0 hour * milliampere\n",
      "charge-current: 0.0 milliampere\n",
      "external-temperature: 22.1 degC\n",
      "internal-temperature: 26.1 degC\n",
      "mode: Monitor\n",
      "supply-voltage: 12.281 volt\n",
      "timestamp: 2016-11-25T17:07:36.145361+00:00\n",
      "\n",
      "battery-voltage: 3.941 volt\n",
      "charge-amount: 0.0 hour * milliampere\n",
      "charge-current: 0.0 milliampere\n",
      "external-temperature: 22.0 degC\n",
      "internal-temperature: 26.1 degC\n",
      "mode: Monitor\n",
      "supply-voltage: 12.281 volt\n",
      "timestamp: 2016-11-25T17:07:38.163556+00:00\n",
      "\n",
      "battery-voltage: 3.937 volt\n",
      "charge-amount: 0.0 hour * milliampere\n",
      "charge-current: 0.0 milliampere\n",
      "external-temperature: 22.1 degC\n",
      "internal-temperature: 26.1 degC\n",
      "mode: Monitor\n",
      "supply-voltage: 12.281 volt\n",
      "timestamp: 2016-11-25T17:07:40.184424+00:00\n",
      "\n",
      "battery-voltage: 3.936 volt\n",
      "charge-amount: 0.0 hour * milliampere\n",
      "charge-current: 0.0 milliampere\n",
      "external-temperature: 22.1 degC\n",
      "internal-temperature: 25.8 degC\n",
      "mode: Monitor\n",
      "supply-voltage: 12.281 volt\n",
      "timestamp: 2016-11-25T17:07:42.142832+00:00\n",
      "\n"
     ]
    }
   ],
   "source": [
    "pipeline = datacat.source.charger.icharger208b(serial.serial_for_url(\"/dev/cu.SLAB_USBtoUART\", baudrate=128000))\n",
    "pipeline = datacat.source.time.timestamp(pipeline)\n",
    "pipeline = datacat.source.limit(pipeline, 5)\n",
    "\n",
    "for observation in pipeline:\n",
    "    datacat.pprint(observation)"
   ]
  },
  {
   "cell_type": "code",
   "execution_count": null,
   "metadata": {
    "collapsed": true
   },
   "outputs": [],
   "source": []
  }
 ],
 "metadata": {
  "anaconda-cloud": {},
  "kernelspec": {
   "display_name": "Python [default]",
   "language": "python",
   "name": "python2"
  },
  "language_info": {
   "codemirror_mode": {
    "name": "ipython",
    "version": 2
   },
   "file_extension": ".py",
   "mimetype": "text/x-python",
   "name": "python",
   "nbconvert_exporter": "python",
   "pygments_lexer": "ipython2",
   "version": "2.7.12"
  }
 },
 "nbformat": 4,
 "nbformat_minor": 1
}
