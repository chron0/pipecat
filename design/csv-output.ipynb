{
 "cells": [
  {
   "cell_type": "code",
   "execution_count": 1,
   "metadata": {
    "collapsed": false
   },
   "outputs": [],
   "source": [
    "import logging\n",
    "logging.basicConfig(level=logging.DEBUG)\n",
    "\n",
    "import pipecat.limit\n",
    "import pipecat.record\n",
    "import pipecat.source.time\n",
    "import pipecat.storage"
   ]
  },
  {
   "cell_type": "code",
   "execution_count": 2,
   "metadata": {
    "collapsed": false
   },
   "outputs": [
    {
     "name": "stdout",
     "output_type": "stream",
     "text": [
      "foo: bar\n",
      "timestamp: 2016-12-02T02:05:14.890724+00:00\n",
      "\n",
      "foo: bar\n",
      "timestamp: 2016-12-02T02:05:15.893888+00:00\n",
      "\n"
     ]
    },
    {
     "name": "stderr",
     "output_type": "stream",
     "text": [
      "INFO:pipecat:Iteration stopped after 3 records.\n"
     ]
    },
    {
     "name": "stdout",
     "output_type": "stream",
     "text": [
      "foo: bar\n",
      "timestamp: 2016-12-02T02:05:16.894952+00:00\n",
      "\n"
     ]
    }
   ],
   "source": [
    "pipeline = pipecat.source.time.metronome()\n",
    "pipeline = pipecat.source.add(pipeline, \"foo\", \"bar\")\n",
    "pipeline = pipecat.source.time.timestamp(pipeline)\n",
    "pipeline = pipecat.limit.count(pipeline, count=3)\n",
    "pipeline = pipecat.storage.csv(pipeline, \"csv-output.csv\")\n",
    "\n",
    "for record in pipeline:\n",
    "    pipecat.record.dump(record)"
   ]
  }
 ],
 "metadata": {
  "anaconda-cloud": {},
  "kernelspec": {
   "display_name": "Python [default]",
   "language": "python",
   "name": "python2"
  },
  "language_info": {
   "codemirror_mode": {
    "name": "ipython",
    "version": 2
   },
   "file_extension": ".py",
   "mimetype": "text/x-python",
   "name": "python",
   "nbconvert_exporter": "python",
   "pygments_lexer": "ipython2",
   "version": "2.7.12"
  }
 },
 "nbformat": 4,
 "nbformat_minor": 1
}
