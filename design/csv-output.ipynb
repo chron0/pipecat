{
 "cells": [
  {
   "cell_type": "code",
   "execution_count": 1,
   "metadata": {
    "collapsed": false
   },
   "outputs": [],
   "source": [
    "import logging\n",
    "logging.basicConfig(level=logging.DEBUG)\n",
    "\n",
    "import datacat.io\n",
    "import datacat.source.time"
   ]
  },
  {
   "cell_type": "code",
   "execution_count": 2,
   "metadata": {
    "collapsed": false
   },
   "outputs": [
    {
     "name": "stdout",
     "output_type": "stream",
     "text": [
      "foo: bar\n",
      "timestamp: 2016-11-29T04:05:18.295535+00:00\n",
      "\n",
      "foo: bar\n",
      "timestamp: 2016-11-29T04:05:19.297418+00:00\n",
      "\n"
     ]
    },
    {
     "name": "stderr",
     "output_type": "stream",
     "text": [
      "INFO:datacat:Stopped by 3 record limit.\n"
     ]
    },
    {
     "name": "stdout",
     "output_type": "stream",
     "text": [
      "foo: bar\n",
      "timestamp: 2016-11-29T04:05:20.299498+00:00\n",
      "\n"
     ]
    }
   ],
   "source": [
    "pipeline = datacat.source.time.metronome()\n",
    "pipeline = datacat.source.add(pipeline, \"foo\", \"bar\")\n",
    "pipeline = datacat.source.time.timestamp(pipeline)\n",
    "pipeline = datacat.source.limit(pipeline, count=3)\n",
    "pipeline = datacat.io.csv(pipeline, \"csv-output.csv\")\n",
    "\n",
    "for record in pipeline:\n",
    "    datacat.dump(record)"
   ]
  },
  {
   "cell_type": "code",
   "execution_count": null,
   "metadata": {
    "collapsed": true
   },
   "outputs": [],
   "source": []
  }
 ],
 "metadata": {
  "anaconda-cloud": {},
  "kernelspec": {
   "display_name": "Python [default]",
   "language": "python",
   "name": "python2"
  },
  "language_info": {
   "codemirror_mode": {
    "name": "ipython",
    "version": 2
   },
   "file_extension": ".py",
   "mimetype": "text/x-python",
   "name": "python",
   "nbconvert_exporter": "python",
   "pygments_lexer": "ipython2",
   "version": "2.7.12"
  }
 },
 "nbformat": 4,
 "nbformat_minor": 1
}
