{
 "cells": [
  {
   "cell_type": "code",
   "execution_count": 1,
   "metadata": {
    "collapsed": false
   },
   "outputs": [],
   "source": [
    "import serial\n",
    "import pipecat.utility\n",
    "import pipecat.device.charger\n",
    "import pipecat.store\n",
    "import pipecat.limit\n",
    "\n",
    "import logging\n",
    "logging.basicConfig(level=logging.DEBUG)"
   ]
  },
  {
   "cell_type": "code",
   "execution_count": 2,
   "metadata": {
    "collapsed": false,
    "scrolled": false
   },
   "outputs": [
    {
     "name": "stderr",
     "output_type": "stream",
     "text": [
      "DEBUG:pipecat:limit.count started\n",
      "DEBUG:pipecat:store.cache started\n",
      "DEBUG:pipecat:limit.until started\n",
      "DEBUG:pipecat:limit.timeout started\n",
      "DEBUG:pipecat:add_timestamp started\n",
      "DEBUG:pipecat:charger started\n",
      "DEBUG:pipecat:readline started\n",
      "DEBUG:pipecat:readline record: {'string': '$1;11;;12226;0;0;0;0;0;0;0;0;0;0;253;243;0;42\\r\\n'}\n",
      "DEBUG:pipecat:charger record: {('charger', 'temperature', 'external'): <Quantity(24.3, 'degC')>, ('battery', 'voltage'): <Quantity(0.0, 'volt')>, ('charger', 'mode'): 'info', ('charger', 'temperature', 'internal'): <Quantity(25.3, 'degC')>, ('battery', 'charge'): <Quantity(0.0, 'hour * milliampere')>, ('battery', 'current'): <Quantity(0.0, 'milliampere')>, ('charger', 'supply'): <Quantity(12.226, 'volt')>}\n",
      "DEBUG:pipecat:add_timestamp record: {('charger', 'temperature', 'external'): <Quantity(24.3, 'degC')>, ('battery', 'voltage'): <Quantity(0.0, 'volt')>, ('charger', 'mode'): 'info', ('charger', 'temperature', 'internal'): <Quantity(25.3, 'degC')>, ('battery', 'charge'): <Quantity(0.0, 'hour * milliampere')>, 'timestamp': <Arrow [2017-01-08T03:34:13.205616+00:00]>, ('battery', 'current'): <Quantity(0.0, 'milliampere')>, ('charger', 'supply'): <Quantity(12.226, 'volt')>}\n",
      "DEBUG:pipecat:limit.timeout record: {('charger', 'temperature', 'external'): <Quantity(24.3, 'degC')>, ('battery', 'voltage'): <Quantity(0.0, 'volt')>, ('charger', 'mode'): 'info', ('charger', 'temperature', 'internal'): <Quantity(25.3, 'degC')>, ('battery', 'charge'): <Quantity(0.0, 'hour * milliampere')>, 'timestamp': <Arrow [2017-01-08T03:34:13.205616+00:00]>, ('battery', 'current'): <Quantity(0.0, 'milliampere')>, ('charger', 'supply'): <Quantity(12.226, 'volt')>}\n",
      "DEBUG:pipecat:limit.until record: {('charger', 'temperature', 'external'): <Quantity(24.3, 'degC')>, ('battery', 'voltage'): <Quantity(0.0, 'volt')>, ('charger', 'mode'): 'info', ('charger', 'temperature', 'internal'): <Quantity(25.3, 'degC')>, ('battery', 'charge'): <Quantity(0.0, 'hour * milliampere')>, 'timestamp': <Arrow [2017-01-08T03:34:13.205616+00:00]>, ('battery', 'current'): <Quantity(0.0, 'milliampere')>, ('charger', 'supply'): <Quantity(12.226, 'volt')>}\n",
      "DEBUG:pipecat:store.cache record: {('charger', 'temperature', 'external'): <Quantity(24.3, 'degC')>, ('battery', 'voltage'): <Quantity(0.0, 'volt')>, ('charger', 'mode'): 'info', ('charger', 'temperature', 'internal'): <Quantity(25.3, 'degC')>, ('battery', 'charge'): <Quantity(0.0, 'hour * milliampere')>, 'timestamp': <Arrow [2017-01-08T03:34:13.205616+00:00]>, ('battery', 'current'): <Quantity(0.0, 'milliampere')>, ('charger', 'supply'): <Quantity(12.226, 'volt')>}\n",
      "DEBUG:pipecat:limit.count record: {('charger', 'temperature', 'external'): <Quantity(24.3, 'degC')>, ('battery', 'voltage'): <Quantity(0.0, 'volt')>, ('charger', 'mode'): 'info', ('charger', 'temperature', 'internal'): <Quantity(25.3, 'degC')>, ('battery', 'charge'): <Quantity(0.0, 'hour * milliampere')>, 'timestamp': <Arrow [2017-01-08T03:34:13.205616+00:00]>, ('battery', 'current'): <Quantity(0.0, 'milliampere')>, ('charger', 'supply'): <Quantity(12.226, 'volt')>}\n",
      "DEBUG:pipecat:readline record: {'string': '$1;11;;12226;0;0;0;0;0;0;0;0;0;0;253;243;0;42\\r\\n'}\n",
      "DEBUG:pipecat:charger record: {('charger', 'temperature', 'external'): <Quantity(24.3, 'degC')>, ('battery', 'voltage'): <Quantity(0.0, 'volt')>, ('charger', 'mode'): 'info', ('charger', 'temperature', 'internal'): <Quantity(25.3, 'degC')>, ('battery', 'charge'): <Quantity(0.0, 'hour * milliampere')>, ('battery', 'current'): <Quantity(0.0, 'milliampere')>, ('charger', 'supply'): <Quantity(12.226, 'volt')>}\n",
      "DEBUG:pipecat:add_timestamp record: {('charger', 'temperature', 'external'): <Quantity(24.3, 'degC')>, ('battery', 'voltage'): <Quantity(0.0, 'volt')>, ('charger', 'mode'): 'info', ('charger', 'temperature', 'internal'): <Quantity(25.3, 'degC')>, ('battery', 'charge'): <Quantity(0.0, 'hour * milliampere')>, 'timestamp': <Arrow [2017-01-08T03:34:15.175120+00:00]>, ('battery', 'current'): <Quantity(0.0, 'milliampere')>, ('charger', 'supply'): <Quantity(12.226, 'volt')>}\n",
      "DEBUG:pipecat:limit.timeout record: {('charger', 'temperature', 'external'): <Quantity(24.3, 'degC')>, ('battery', 'voltage'): <Quantity(0.0, 'volt')>, ('charger', 'mode'): 'info', ('charger', 'temperature', 'internal'): <Quantity(25.3, 'degC')>, ('battery', 'charge'): <Quantity(0.0, 'hour * milliampere')>, 'timestamp': <Arrow [2017-01-08T03:34:15.175120+00:00]>, ('battery', 'current'): <Quantity(0.0, 'milliampere')>, ('charger', 'supply'): <Quantity(12.226, 'volt')>}\n",
      "DEBUG:pipecat:limit.until record: {('charger', 'temperature', 'external'): <Quantity(24.3, 'degC')>, ('battery', 'voltage'): <Quantity(0.0, 'volt')>, ('charger', 'mode'): 'info', ('charger', 'temperature', 'internal'): <Quantity(25.3, 'degC')>, ('battery', 'charge'): <Quantity(0.0, 'hour * milliampere')>, 'timestamp': <Arrow [2017-01-08T03:34:15.175120+00:00]>, ('battery', 'current'): <Quantity(0.0, 'milliampere')>, ('charger', 'supply'): <Quantity(12.226, 'volt')>}\n",
      "DEBUG:pipecat:store.cache record: {('charger', 'temperature', 'external'): <Quantity(24.3, 'degC')>, ('battery', 'voltage'): <Quantity(0.0, 'volt')>, ('charger', 'mode'): 'info', ('charger', 'temperature', 'internal'): <Quantity(25.3, 'degC')>, ('battery', 'charge'): <Quantity(0.0, 'hour * milliampere')>, 'timestamp': <Arrow [2017-01-08T03:34:15.175120+00:00]>, ('battery', 'current'): <Quantity(0.0, 'milliampere')>, ('charger', 'supply'): <Quantity(12.226, 'volt')>}\n",
      "DEBUG:pipecat:limit.count record: {('charger', 'temperature', 'external'): <Quantity(24.3, 'degC')>, ('battery', 'voltage'): <Quantity(0.0, 'volt')>, ('charger', 'mode'): 'info', ('charger', 'temperature', 'internal'): <Quantity(25.3, 'degC')>, ('battery', 'charge'): <Quantity(0.0, 'hour * milliampere')>, 'timestamp': <Arrow [2017-01-08T03:34:15.175120+00:00]>, ('battery', 'current'): <Quantity(0.0, 'milliampere')>, ('charger', 'supply'): <Quantity(12.226, 'volt')>}\n",
      "DEBUG:pipecat:readline record: {'string': '$1;11;;12226;0;0;0;0;0;0;0;0;0;0;253;243;0;42\\r\\n'}\n",
      "DEBUG:pipecat:charger record: {('charger', 'temperature', 'external'): <Quantity(24.3, 'degC')>, ('battery', 'voltage'): <Quantity(0.0, 'volt')>, ('charger', 'mode'): 'info', ('charger', 'temperature', 'internal'): <Quantity(25.3, 'degC')>, ('battery', 'charge'): <Quantity(0.0, 'hour * milliampere')>, ('battery', 'current'): <Quantity(0.0, 'milliampere')>, ('charger', 'supply'): <Quantity(12.226, 'volt')>}\n",
      "DEBUG:pipecat:add_timestamp record: {('charger', 'temperature', 'external'): <Quantity(24.3, 'degC')>, ('battery', 'voltage'): <Quantity(0.0, 'volt')>, ('charger', 'mode'): 'info', ('charger', 'temperature', 'internal'): <Quantity(25.3, 'degC')>, ('battery', 'charge'): <Quantity(0.0, 'hour * milliampere')>, 'timestamp': <Arrow [2017-01-08T03:34:17.196525+00:00]>, ('battery', 'current'): <Quantity(0.0, 'milliampere')>, ('charger', 'supply'): <Quantity(12.226, 'volt')>}\n",
      "DEBUG:pipecat:limit.timeout record: {('charger', 'temperature', 'external'): <Quantity(24.3, 'degC')>, ('battery', 'voltage'): <Quantity(0.0, 'volt')>, ('charger', 'mode'): 'info', ('charger', 'temperature', 'internal'): <Quantity(25.3, 'degC')>, ('battery', 'charge'): <Quantity(0.0, 'hour * milliampere')>, 'timestamp': <Arrow [2017-01-08T03:34:17.196525+00:00]>, ('battery', 'current'): <Quantity(0.0, 'milliampere')>, ('charger', 'supply'): <Quantity(12.226, 'volt')>}\n",
      "DEBUG:pipecat:limit.until record: {('charger', 'temperature', 'external'): <Quantity(24.3, 'degC')>, ('battery', 'voltage'): <Quantity(0.0, 'volt')>, ('charger', 'mode'): 'info', ('charger', 'temperature', 'internal'): <Quantity(25.3, 'degC')>, ('battery', 'charge'): <Quantity(0.0, 'hour * milliampere')>, 'timestamp': <Arrow [2017-01-08T03:34:17.196525+00:00]>, ('battery', 'current'): <Quantity(0.0, 'milliampere')>, ('charger', 'supply'): <Quantity(12.226, 'volt')>}\n",
      "DEBUG:pipecat:store.cache record: {('charger', 'temperature', 'external'): <Quantity(24.3, 'degC')>, ('battery', 'voltage'): <Quantity(0.0, 'volt')>, ('charger', 'mode'): 'info', ('charger', 'temperature', 'internal'): <Quantity(25.3, 'degC')>, ('battery', 'charge'): <Quantity(0.0, 'hour * milliampere')>, 'timestamp': <Arrow [2017-01-08T03:34:17.196525+00:00]>, ('battery', 'current'): <Quantity(0.0, 'milliampere')>, ('charger', 'supply'): <Quantity(12.226, 'volt')>}\n",
      "DEBUG:pipecat:limit.count record: {('charger', 'temperature', 'external'): <Quantity(24.3, 'degC')>, ('battery', 'voltage'): <Quantity(0.0, 'volt')>, ('charger', 'mode'): 'info', ('charger', 'temperature', 'internal'): <Quantity(25.3, 'degC')>, ('battery', 'charge'): <Quantity(0.0, 'hour * milliampere')>, 'timestamp': <Arrow [2017-01-08T03:34:17.196525+00:00]>, ('battery', 'current'): <Quantity(0.0, 'milliampere')>, ('charger', 'supply'): <Quantity(12.226, 'volt')>}\n",
      "DEBUG:pipecat:trace iteration stopped after 3 records.\n",
      "DEBUG:pipecat:store.cache finished\n",
      "DEBUG:pipecat:limit.until finished\n",
      "DEBUG:pipecat:limit.timeout finished\n",
      "DEBUG:pipecat:readline record: {'string': '$1;11;;12234;0;0;0;0;0;0;0;0;0;0;253;243;0;41\\r\\n'}\n",
      "DEBUG:pipecat:charger record: {('charger', 'temperature', 'external'): <Quantity(24.3, 'degC')>, ('battery', 'voltage'): <Quantity(0.0, 'volt')>, ('charger', 'mode'): 'info', ('charger', 'temperature', 'internal'): <Quantity(25.3, 'degC')>, ('battery', 'charge'): <Quantity(0.0, 'hour * milliampere')>, ('battery', 'current'): <Quantity(0.0, 'milliampere')>, ('charger', 'supply'): <Quantity(12.234, 'volt')>}\n",
      "DEBUG:pipecat:add_timestamp record: {('charger', 'temperature', 'external'): <Quantity(24.3, 'degC')>, ('battery', 'voltage'): <Quantity(0.0, 'volt')>, ('charger', 'mode'): 'info', ('charger', 'temperature', 'internal'): <Quantity(25.3, 'degC')>, ('battery', 'charge'): <Quantity(0.0, 'hour * milliampere')>, 'timestamp': <Arrow [2017-01-08T03:34:19.211107+00:00]>, ('battery', 'current'): <Quantity(0.0, 'milliampere')>, ('charger', 'supply'): <Quantity(12.234, 'volt')>}\n",
      "Exception RuntimeError: 'generator ignored GeneratorExit' in <generator object timeout at 0x107e0f2d0> ignored\n",
      "DEBUG:pipecat:add_timestamp finished\n",
      "DEBUG:pipecat:charger finished\n",
      "DEBUG:pipecat:readline finished\n",
      "DEBUG:pipecat:limit.count finished\n"
     ]
    }
   ],
   "source": [
    "pipe = pipecat.utility.readline(serial.serial_for_url(\"/dev/cu.SLAB_USBtoUART\", baudrate=128000))\n",
    "pipe = pipecat.utility.trace(pipe, \"readline\")\n",
    "pipe = pipecat.device.charger.icharger208b(pipe)\n",
    "pipe = pipecat.utility.trace(pipe, \"charger\")\n",
    "pipe = pipecat.utility.add_timestamp(pipe)\n",
    "pipe = pipecat.utility.trace(pipe, \"add_timestamp\")\n",
    "pipe = pipecat.limit.timeout(pipe, timeout=pipecat.quantity(10, pipecat.units.seconds))\n",
    "pipe = pipecat.utility.trace(pipe, \"limit.timeout\")\n",
    "pipe = pipecat.limit.until(pipe, (\"charger\", \"mode\"), \"finished\")\n",
    "pipe = pipecat.utility.trace(pipe, \"limit.until\")\n",
    "pipe = pipecat.store.cache(pipe)\n",
    "pipe = pipecat.utility.trace(pipe, \"store.cache\")\n",
    "pipe = pipecat.limit.count(pipe, 3)\n",
    "pipe = pipecat.utility.trace(pipe, \"limit.count\")\n",
    "\n",
    "for record in pipe:\n",
    "    pass\n"
   ]
  },
  {
   "cell_type": "code",
   "execution_count": null,
   "metadata": {
    "collapsed": true
   },
   "outputs": [],
   "source": []
  }
 ],
 "metadata": {
  "anaconda-cloud": {},
  "kernelspec": {
   "display_name": "Python [default]",
   "language": "python",
   "name": "python2"
  },
  "language_info": {
   "codemirror_mode": {
    "name": "ipython",
    "version": 2
   },
   "file_extension": ".py",
   "mimetype": "text/x-python",
   "name": "python",
   "nbconvert_exporter": "python",
   "pygments_lexer": "ipython2",
   "version": "2.7.12"
  }
 },
 "nbformat": 4,
 "nbformat_minor": 1
}
