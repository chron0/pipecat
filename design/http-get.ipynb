{
 "cells": [
  {
   "cell_type": "code",
   "execution_count": 1,
   "metadata": {},
   "outputs": [],
   "source": [
    "import logging\n",
    "logging.basicConfig(level=logging.DEBUG)\n",
    "\n",
    "import pipecat.http\n",
    "import pipecat.limit\n",
    "import pipecat.record\n",
    "import pipecat.utility\n",
    "import pipecat.device.weather\n",
    "import pipecat.xml"
   ]
  },
  {
   "cell_type": "code",
   "execution_count": 2,
   "metadata": {
    "scrolled": false
   },
   "outputs": [
    {
     "name": "stderr",
     "output_type": "stream",
     "text": [
      "DEBUG:requests.packages.urllib3.connectionpool:Starting new HTTPS connection (1): aviationweather.gov\n",
      "DEBUG:requests.packages.urllib3.connectionpool:https://aviationweather.gov:443 \"GET /adds/dataserver_current/httpparam?dataSource=metars&requestType=retrieve&format=xml&hoursBeforeNow=3&mostRecent=true&stationString=KAEG HTTP/1.1\" 200 620\n"
     ]
    },
    {
     "name": "stdout",
     "output_type": "stream",
     "text": [
      "altimeter: 29.958662 in_Hg\n",
      "dewpoint: -2.0 degC\n",
      "elevation: 1779.0 meter\n",
      "flight-category: VFR\n",
      "latitude: 35.13 degree\n",
      "longitude: -106.8 degree\n",
      "observation-time: 2017-05-03T02:48:00+00:00\n",
      "raw: KAEG 030248Z 32011KT 10SM BKN120 17/M02 A2996\n",
      "station-id: KAEG\n",
      "temperature: 17.0 degC\n",
      "timestamp: 2017-05-03T04:36:20.376639+00:00\n",
      "visibility: 10.0 mile\n",
      "wind-direction: 320 degree\n",
      "wind-speed: 11 knot\n",
      "\n"
     ]
    },
    {
     "name": "stderr",
     "output_type": "stream",
     "text": [
      "DEBUG:pipecat:add_timestamp iteration stopped after 1 records.\n"
     ]
    }
   ],
   "source": [
    "pipe = pipecat.http.get(\"https://aviationweather.gov/adds/dataserver_current/httpparam?dataSource=metars&requestType=retrieve&format=xml&hoursBeforeNow=3&mostRecent=true&stationString=KAEG\")\n",
    "pipe = pipecat.xml.parse(pipe)\n",
    "pipe = pipecat.device.weather.metars(pipe)\n",
    "pipe = pipecat.utility.add_timestamp(pipe)\n",
    "pipe = pipecat.limit.count(pipe, count=1)\n",
    "\n",
    "for record in pipe:\n",
    "    pipecat.record.dump(record)"
   ]
  },
  {
   "cell_type": "code",
   "execution_count": null,
   "metadata": {
    "collapsed": true
   },
   "outputs": [],
   "source": []
  }
 ],
 "metadata": {
  "anaconda-cloud": {},
  "kernelspec": {
   "display_name": "Python 2",
   "language": "python",
   "name": "python2"
  },
  "language_info": {
   "codemirror_mode": {
    "name": "ipython",
    "version": 2
   },
   "file_extension": ".py",
   "mimetype": "text/x-python",
   "name": "python",
   "nbconvert_exporter": "python",
   "pygments_lexer": "ipython2",
   "version": "2.7.13"
  }
 },
 "nbformat": 4,
 "nbformat_minor": 1
}
