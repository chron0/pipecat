{
 "cells": [
  {
   "cell_type": "code",
   "execution_count": 1,
   "metadata": {
    "collapsed": false
   },
   "outputs": [],
   "source": [
    "import pipecat.device.gps\n",
    "import pipecat.record\n",
    "import pipecat.limit\n",
    "import pipecat.udp\n",
    "\n",
    "import logging\n",
    "logging.basicConfig(level=logging.DEBUG)"
   ]
  },
  {
   "cell_type": "code",
   "execution_count": 2,
   "metadata": {
    "collapsed": false,
    "scrolled": false
   },
   "outputs": [
    {
     "name": "stdout",
     "output_type": "stream",
     "text": [
      "active: True\n",
      "date: 021216\n",
      "id: GPRMC\n",
      "latitude: 35.1995353333 degree\n",
      "longitude: -106.722873333 degree\n",
      "speed: 0.0 knot\n",
      "time: 020730\n",
      "track: 0.0 degree\n",
      "variation: -3.1 degree\n",
      "\n",
      "active: True\n",
      "id: GPGLL\n",
      "latitude: 35.1995353333 degree\n",
      "longitude: -106.722873333 degree\n",
      "time: 020730\n",
      "\n",
      "heading: 325.1 degree\n",
      "id: HCHDG\n",
      "variation: 8.7 degree\n",
      "\n",
      "heading: 333.8 degree\n",
      "heading-accuracy: 15.0 degree\n",
      "heave: 0.0 meter\n",
      "id: PASHR\n",
      "pitch: 44.21 degree\n",
      "pitch-accuracy: 3.141 degree\n",
      "roll: 11.96 degree\n",
      "roll-accuracy: 3.141 degree\n",
      "time: 020730000\n",
      "\n",
      "altitude: 1647.0 meter\n",
      "dop: 0.9\n",
      "geoid-height: 46.9 meter\n",
      "id: GPGGA\n",
      "latitude: 35.1995353333 degree\n",
      "longitude: -106.722873333 degree\n",
      "quality: 1\n",
      "satellites: 8\n",
      "time: 020730\n",
      "\n",
      "active: True\n",
      "date: 021216\n",
      "id: GPRMC\n",
      "latitude: 35.1995353333 degree\n",
      "longitude: -106.722873333 degree\n",
      "speed: 0.0 knot\n",
      "time: 020730\n",
      "track: 0.0 degree\n",
      "variation: -3.1 degree\n",
      "\n",
      "active: True\n",
      "id: GPGLL\n",
      "latitude: 35.1995353333 degree\n",
      "longitude: -106.722873333 degree\n",
      "time: 020730\n",
      "\n",
      "heading: 325.1 degree\n",
      "id: HCHDG\n",
      "variation: 8.7 degree\n",
      "\n",
      "heading: 333.8 degree\n",
      "heading-accuracy: 15.0 degree\n",
      "heave: 0.0 meter\n",
      "id: PASHR\n",
      "pitch: 44.27 degree\n",
      "pitch-accuracy: 3.141 degree\n",
      "roll: 11.95 degree\n",
      "roll-accuracy: 3.141 degree\n",
      "time: 020730000\n",
      "\n"
     ]
    },
    {
     "name": "stderr",
     "output_type": "stream",
     "text": [
      "INFO:pipecat:Iteration stopped after 10 records.\n"
     ]
    },
    {
     "name": "stdout",
     "output_type": "stream",
     "text": [
      "altitude: 1647.0 meter\n",
      "dop: 0.9\n",
      "geoid-height: 46.9 meter\n",
      "id: GPGGA\n",
      "latitude: 35.1995353333 degree\n",
      "longitude: -106.722873333 degree\n",
      "quality: 1\n",
      "satellites: 8\n",
      "time: 020731\n",
      "\n"
     ]
    }
   ],
   "source": [
    "pipeline = pipecat.udp.receive((\"192.168.0.17\", 11123), 1024)\n",
    "pipeline = pipecat.device.gps.nmea(pipeline)\n",
    "pipeline = pipecat.limit.count(pipeline, count=10)\n",
    "\n",
    "for record in pipeline:\n",
    "    pipecat.record.dump(record)"
   ]
  }
 ],
 "metadata": {
  "anaconda-cloud": {},
  "kernelspec": {
   "display_name": "Python [default]",
   "language": "python",
   "name": "python2"
  },
  "language_info": {
   "codemirror_mode": {
    "name": "ipython",
    "version": 2
   },
   "file_extension": ".py",
   "mimetype": "text/x-python",
   "name": "python",
   "nbconvert_exporter": "python",
   "pygments_lexer": "ipython2",
   "version": "2.7.12"
  }
 },
 "nbformat": 4,
 "nbformat_minor": 1
}
