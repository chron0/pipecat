{
 "cells": [
  {
   "cell_type": "code",
   "execution_count": 1,
   "metadata": {
    "collapsed": false
   },
   "outputs": [],
   "source": [
    "import pipecat.device.gps\n",
    "import pipecat.record\n",
    "import pipecat.limit\n",
    "import pipecat.udp\n",
    "\n",
    "import logging\n",
    "logging.basicConfig(level=logging.DEBUG)"
   ]
  },
  {
   "cell_type": "code",
   "execution_count": 2,
   "metadata": {
    "collapsed": false,
    "scrolled": false
   },
   "outputs": [
    {
     "name": "stderr",
     "output_type": "stream",
     "text": [
      "INFO:pipecat:Iteration stopped after 10 records.\n"
     ]
    },
    {
     "name": "stdout",
     "output_type": "stream",
     "text": [
      "id: GPTXT\n",
      "text: UserDefined\n",
      "\n",
      "altitude: 1648.9 meter\n",
      "dop: 0.9\n",
      "geoid-height: 46.9 meter\n",
      "id: GPGGA\n",
      "latitude: 35.1995593333 degree\n",
      "longitude: -106.722933 degree\n",
      "quality: 1\n",
      "satellites: 8\n",
      "time: 062548\n",
      "\n",
      "active: True\n",
      "date: 061216\n",
      "id: GPRMC\n",
      "latitude: 35.1995593333 degree\n",
      "longitude: -106.722933 degree\n",
      "speed: 0.0 knot\n",
      "time: 062548\n",
      "track: 0.0 degree\n",
      "variation: -3.1 degree\n",
      "\n",
      "active: True\n",
      "id: GPGLL\n",
      "latitude: 35.1995593333 degree\n",
      "longitude: -106.722933 degree\n",
      "time: 062548\n",
      "\n",
      "heading: 0.0 degree\n",
      "id: HCHDG\n",
      "variation: -0.0 degree\n",
      "\n",
      "altitude: 1648.9 meter\n",
      "dop: 0.9\n",
      "geoid-height: 46.9 meter\n",
      "id: GPGGA\n",
      "latitude: 35.1995593333 degree\n",
      "longitude: -106.722933 degree\n",
      "quality: 1\n",
      "satellites: 8\n",
      "time: 062540\n",
      "\n",
      "active: True\n",
      "date: 061216\n",
      "id: GPRMC\n",
      "latitude: 35.1995593333 degree\n",
      "longitude: -106.722933 degree\n",
      "speed: 0.0 knot\n",
      "time: 062540\n",
      "track: 0.0 degree\n",
      "variation: -3.1 degree\n",
      "\n",
      "active: True\n",
      "id: GPGLL\n",
      "latitude: 35.1995593333 degree\n",
      "longitude: -106.722933 degree\n",
      "time: 062540\n",
      "\n",
      "heading: 0.0 degree\n",
      "id: HCHDG\n",
      "variation: -0.0 degree\n",
      "\n",
      "altitude: 1648.9 meter\n",
      "dop: 0.9\n",
      "geoid-height: 46.9 meter\n",
      "id: GPGGA\n",
      "latitude: 35.1995593333 degree\n",
      "longitude: -106.722933 degree\n",
      "quality: 1\n",
      "satellites: 8\n",
      "time: 062548\n",
      "\n"
     ]
    }
   ],
   "source": [
    "pipe = pipecat.udp.receive((\"192.168.0.17\", 11123), 1024)\n",
    "pipe = pipecat.device.gps.nmea(pipe)\n",
    "pipe = pipecat.limit.count(pipe, count=10)\n",
    "\n",
    "for record in pipe:\n",
    "    pipecat.record.dump(record)"
   ]
  }
 ],
 "metadata": {
  "anaconda-cloud": {},
  "kernelspec": {
   "display_name": "Python [default]",
   "language": "python",
   "name": "python2"
  },
  "language_info": {
   "codemirror_mode": {
    "name": "ipython",
    "version": 2
   },
   "file_extension": ".py",
   "mimetype": "text/x-python",
   "name": "python",
   "nbconvert_exporter": "python",
   "pygments_lexer": "ipython2",
   "version": "2.7.12"
  }
 },
 "nbformat": 4,
 "nbformat_minor": 1
}
