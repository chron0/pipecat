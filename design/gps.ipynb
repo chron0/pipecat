{
 "cells": [
  {
   "cell_type": "code",
   "execution_count": 1,
   "metadata": {
    "collapsed": false
   },
   "outputs": [],
   "source": [
    "import datacat.device.gps\n",
    "import datacat.record\n",
    "import datacat.limit\n",
    "import datacat.udp\n",
    "\n",
    "import logging\n",
    "logging.basicConfig(level=logging.DEBUG)"
   ]
  },
  {
   "cell_type": "code",
   "execution_count": 2,
   "metadata": {
    "collapsed": false,
    "scrolled": false
   },
   "outputs": [
    {
     "name": "stdout",
     "output_type": "stream",
     "text": [
      "altitude: 1648.7 meter\n",
      "dop: 0.9\n",
      "geoid-height: 46.9 meter\n",
      "id: GPGGA\n",
      "latitude: 35.19959 degree\n",
      "longitude: -106.722922833 degree\n",
      "quality: 1\n",
      "satellites: 8\n",
      "time: 053233\n",
      "\n",
      "active: True\n",
      "date: 011216\n",
      "id: GPRMC\n",
      "latitude: 35.19959 degree\n",
      "longitude: -106.722922833 degree\n",
      "speed: 0.0 knot\n",
      "time: 053233\n",
      "track: 0.0 degree\n",
      "variation: -3.1 degree\n",
      "\n",
      "active: True\n",
      "id: GPGLL\n",
      "latitude: 35.19959 degree\n",
      "longitude: -106.722922833 degree\n",
      "time: 053233\n",
      "\n",
      "heading: 278.5 degree\n",
      "id: HCHDG\n",
      "variation: 8.7 degree\n",
      "\n",
      "heading: 287.18 degree\n",
      "heading-accuracy: 25.0 degree\n",
      "heave: 0.0 meter\n",
      "id: PASHR\n",
      "pitch: 15.57 degree\n",
      "pitch-accuracy: 3.141 degree\n",
      "roll: -1.29 degree\n",
      "roll-accuracy: 3.141 degree\n",
      "time: 053233005\n",
      "\n"
     ]
    },
    {
     "name": "stderr",
     "output_type": "stream",
     "text": [
      "INFO:datacat:Iteration stopped after 10 records.\n"
     ]
    },
    {
     "name": "stdout",
     "output_type": "stream",
     "text": [
      "altitude: 1650.4 meter\n",
      "dop: 0.9\n",
      "geoid-height: 46.9 meter\n",
      "id: GPGGA\n",
      "latitude: 35.1995133333 degree\n",
      "longitude: -106.722929333 degree\n",
      "quality: 1\n",
      "satellites: 8\n",
      "time: 053235\n",
      "\n",
      "active: True\n",
      "date: 011216\n",
      "id: GPRMC\n",
      "latitude: 35.1995133333 degree\n",
      "longitude: -106.722929333 degree\n",
      "speed: 0.0 knot\n",
      "time: 053235\n",
      "track: 0.0 degree\n",
      "variation: -3.1 degree\n",
      "\n",
      "active: True\n",
      "id: GPGLL\n",
      "latitude: 35.1995133333 degree\n",
      "longitude: -106.722929333 degree\n",
      "time: 053235\n",
      "\n",
      "heading: 327.2 degree\n",
      "id: HCHDG\n",
      "variation: 8.7 degree\n",
      "\n",
      "heading: 335.9 degree\n",
      "heading-accuracy: 25.0 degree\n",
      "heave: 0.0 meter\n",
      "id: PASHR\n",
      "pitch: 25.35 degree\n",
      "pitch-accuracy: 3.141 degree\n",
      "roll: 5.5 degree\n",
      "roll-accuracy: 3.141 degree\n",
      "time: 053235000\n",
      "\n"
     ]
    }
   ],
   "source": [
    "pipeline = datacat.udp.receive((\"192.168.0.17\", 11123), 1024)\n",
    "pipeline = datacat.device.gps.nmea(pipeline)\n",
    "pipeline = datacat.limit.count(pipeline, count=10)\n",
    "\n",
    "for record in pipeline:\n",
    "    datacat.record.dump(record)"
   ]
  }
 ],
 "metadata": {
  "kernelspec": {
   "display_name": "Python [default]",
   "language": "python",
   "name": "python2"
  },
  "language_info": {
   "codemirror_mode": {
    "name": "ipython",
    "version": 2
   },
   "file_extension": ".py",
   "mimetype": "text/x-python",
   "name": "python",
   "nbconvert_exporter": "python",
   "pygments_lexer": "ipython2",
   "version": "2.7.12"
  }
 },
 "nbformat": 4,
 "nbformat_minor": 1
}
