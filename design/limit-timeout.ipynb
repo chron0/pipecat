{
 "cells": [
  {
   "cell_type": "code",
   "execution_count": 1,
   "metadata": {
    "collapsed": false
   },
   "outputs": [],
   "source": [
    "import logging\n",
    "logging.basicConfig(level=logging.DEBUG)\n",
    "\n",
    "import itertools\n",
    "import time\n",
    "\n",
    "import datacat.limit\n",
    "import datacat.source.time"
   ]
  },
  {
   "cell_type": "code",
   "execution_count": 2,
   "metadata": {
    "collapsed": true
   },
   "outputs": [],
   "source": [
    "def broken_metronome():\n",
    "    for i in itertools.count():\n",
    "        yield {}\n",
    "        time.sleep(i)"
   ]
  },
  {
   "cell_type": "code",
   "execution_count": 3,
   "metadata": {
    "collapsed": false
   },
   "outputs": [
    {
     "name": "stdout",
     "output_type": "stream",
     "text": [
      "timestamp: 2016-11-30T04:01:23.236369+00:00\n",
      "\n",
      "timestamp: 2016-11-30T04:01:23.236414+00:00\n",
      "\n",
      "timestamp: 2016-11-30T04:01:24.241501+00:00\n",
      "\n",
      "timestamp: 2016-11-30T04:01:26.246533+00:00\n",
      "\n",
      "timestamp: 2016-11-30T04:01:29.251572+00:00\n",
      "\n",
      "timestamp: 2016-11-30T04:01:33.254010+00:00\n",
      "\n",
      "timestamp: 2016-11-30T04:01:38.258659+00:00\n",
      "\n"
     ]
    },
    {
     "name": "stderr",
     "output_type": "stream",
     "text": [
      "INFO:datacat:Iteration stopped by 5 second timeout.\n"
     ]
    }
   ],
   "source": [
    "pipeline = broken_metronome()\n",
    "pipeline = datacat.source.time.timestamp(pipeline)\n",
    "pipeline = datacat.limit.timeout(pipeline, timeout=datacat.quantity(5, datacat.units.seconds))\n",
    "\n",
    "for record in pipeline:\n",
    "    datacat.dump(record)"
   ]
  },
  {
   "cell_type": "code",
   "execution_count": null,
   "metadata": {
    "collapsed": true
   },
   "outputs": [],
   "source": []
  }
 ],
 "metadata": {
  "anaconda-cloud": {},
  "kernelspec": {
   "display_name": "Python [default]",
   "language": "python",
   "name": "python2"
  },
  "language_info": {
   "codemirror_mode": {
    "name": "ipython",
    "version": 2
   },
   "file_extension": ".py",
   "mimetype": "text/x-python",
   "name": "python",
   "nbconvert_exporter": "python",
   "pygments_lexer": "ipython2",
   "version": "2.7.12"
  }
 },
 "nbformat": 4,
 "nbformat_minor": 1
}
