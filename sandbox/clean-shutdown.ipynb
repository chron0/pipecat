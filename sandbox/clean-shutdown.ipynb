{
 "cells": [
  {
   "cell_type": "code",
   "execution_count": 1,
   "metadata": {
    "collapsed": false
   },
   "outputs": [],
   "source": [
    "import serial\n",
    "import pipecat.utility\n",
    "import pipecat.device.charger\n",
    "import pipecat.store\n",
    "import pipecat.limit\n",
    "\n",
    "import logging\n",
    "logging.basicConfig(level=logging.DEBUG)"
   ]
  },
  {
   "cell_type": "code",
   "execution_count": 2,
   "metadata": {
    "collapsed": false,
    "scrolled": false
   },
   "outputs": [
    {
     "name": "stderr",
     "output_type": "stream",
     "text": [
      "DEBUG:pipecat:store.cache started\n",
      "DEBUG:pipecat:limit.until started\n",
      "DEBUG:pipecat:limit.timeout started\n",
      "DEBUG:pipecat:add_timestamp started\n",
      "DEBUG:pipecat:charger started\n",
      "DEBUG:pipecat:readline started\n",
      "DEBUG:pipecat:readline record: {'string': '$1;11;;12242;0;0;0;0;0;0;0;0;0;0;289;264;0;42\\r\\n'}\n",
      "DEBUG:pipecat:charger record: {('charger', 'temperature', 'external'): <Quantity(26.4, 'degC')>, ('battery', 'voltage'): <Quantity(0.0, 'volt')>, ('charger', 'mode'): 'info', ('charger', 'temperature', 'internal'): <Quantity(28.9, 'degC')>, ('battery', 'charge'): <Quantity(0.0, 'hour * milliampere')>, ('battery', 'current'): <Quantity(0.0, 'milliampere')>, ('charger', 'supply'): <Quantity(12.242, 'volt')>}\n",
      "DEBUG:pipecat:add_timestamp record: {('charger', 'temperature', 'external'): <Quantity(26.4, 'degC')>, ('battery', 'voltage'): <Quantity(0.0, 'volt')>, ('charger', 'mode'): 'info', ('charger', 'temperature', 'internal'): <Quantity(28.9, 'degC')>, ('battery', 'charge'): <Quantity(0.0, 'hour * milliampere')>, 'timestamp': <Arrow [2017-01-08T05:56:14.777816+00:00]>, ('battery', 'current'): <Quantity(0.0, 'milliampere')>, ('charger', 'supply'): <Quantity(12.242, 'volt')>}\n",
      "DEBUG:pipecat:limit.timeout record: {('charger', 'temperature', 'external'): <Quantity(26.4, 'degC')>, ('battery', 'voltage'): <Quantity(0.0, 'volt')>, ('charger', 'mode'): 'info', ('charger', 'temperature', 'internal'): <Quantity(28.9, 'degC')>, ('battery', 'charge'): <Quantity(0.0, 'hour * milliampere')>, 'timestamp': <Arrow [2017-01-08T05:56:14.777816+00:00]>, ('battery', 'current'): <Quantity(0.0, 'milliampere')>, ('charger', 'supply'): <Quantity(12.242, 'volt')>}\n",
      "DEBUG:pipecat:limit.until record: {('charger', 'temperature', 'external'): <Quantity(26.4, 'degC')>, ('battery', 'voltage'): <Quantity(0.0, 'volt')>, ('charger', 'mode'): 'info', ('charger', 'temperature', 'internal'): <Quantity(28.9, 'degC')>, ('battery', 'charge'): <Quantity(0.0, 'hour * milliampere')>, 'timestamp': <Arrow [2017-01-08T05:56:14.777816+00:00]>, ('battery', 'current'): <Quantity(0.0, 'milliampere')>, ('charger', 'supply'): <Quantity(12.242, 'volt')>}\n",
      "DEBUG:pipecat:store.cache record: {('charger', 'temperature', 'external'): <Quantity(26.4, 'degC')>, ('battery', 'voltage'): <Quantity(0.0, 'volt')>, ('charger', 'mode'): 'info', ('charger', 'temperature', 'internal'): <Quantity(28.9, 'degC')>, ('battery', 'charge'): <Quantity(0.0, 'hour * milliampere')>, 'timestamp': <Arrow [2017-01-08T05:56:14.777816+00:00]>, ('battery', 'current'): <Quantity(0.0, 'milliampere')>, ('charger', 'supply'): <Quantity(12.242, 'volt')>}\n",
      "DEBUG:pipecat:readline record: {'string': '$1;11;;12242;0;0;0;0;0;0;0;0;0;0;289;265;0;43\\r\\n'}\n",
      "DEBUG:pipecat:charger record: {('charger', 'temperature', 'external'): <Quantity(26.5, 'degC')>, ('battery', 'voltage'): <Quantity(0.0, 'volt')>, ('charger', 'mode'): 'info', ('charger', 'temperature', 'internal'): <Quantity(28.9, 'degC')>, ('battery', 'charge'): <Quantity(0.0, 'hour * milliampere')>, ('battery', 'current'): <Quantity(0.0, 'milliampere')>, ('charger', 'supply'): <Quantity(12.242, 'volt')>}\n",
      "DEBUG:pipecat:add_timestamp record: {('charger', 'temperature', 'external'): <Quantity(26.5, 'degC')>, ('battery', 'voltage'): <Quantity(0.0, 'volt')>, ('charger', 'mode'): 'info', ('charger', 'temperature', 'internal'): <Quantity(28.9, 'degC')>, ('battery', 'charge'): <Quantity(0.0, 'hour * milliampere')>, 'timestamp': <Arrow [2017-01-08T05:56:16.779371+00:00]>, ('battery', 'current'): <Quantity(0.0, 'milliampere')>, ('charger', 'supply'): <Quantity(12.242, 'volt')>}\n",
      "DEBUG:pipecat:limit.timeout record: {('charger', 'temperature', 'external'): <Quantity(26.5, 'degC')>, ('battery', 'voltage'): <Quantity(0.0, 'volt')>, ('charger', 'mode'): 'info', ('charger', 'temperature', 'internal'): <Quantity(28.9, 'degC')>, ('battery', 'charge'): <Quantity(0.0, 'hour * milliampere')>, 'timestamp': <Arrow [2017-01-08T05:56:16.779371+00:00]>, ('battery', 'current'): <Quantity(0.0, 'milliampere')>, ('charger', 'supply'): <Quantity(12.242, 'volt')>}\n",
      "DEBUG:pipecat:limit.until record: {('charger', 'temperature', 'external'): <Quantity(26.5, 'degC')>, ('battery', 'voltage'): <Quantity(0.0, 'volt')>, ('charger', 'mode'): 'info', ('charger', 'temperature', 'internal'): <Quantity(28.9, 'degC')>, ('battery', 'charge'): <Quantity(0.0, 'hour * milliampere')>, 'timestamp': <Arrow [2017-01-08T05:56:16.779371+00:00]>, ('battery', 'current'): <Quantity(0.0, 'milliampere')>, ('charger', 'supply'): <Quantity(12.242, 'volt')>}\n",
      "DEBUG:pipecat:store.cache record: {('charger', 'temperature', 'external'): <Quantity(26.5, 'degC')>, ('battery', 'voltage'): <Quantity(0.0, 'volt')>, ('charger', 'mode'): 'info', ('charger', 'temperature', 'internal'): <Quantity(28.9, 'degC')>, ('battery', 'charge'): <Quantity(0.0, 'hour * milliampere')>, 'timestamp': <Arrow [2017-01-08T05:56:16.779371+00:00]>, ('battery', 'current'): <Quantity(0.0, 'milliampere')>, ('charger', 'supply'): <Quantity(12.242, 'volt')>}\n",
      "DEBUG:pipecat:store.cache finished\n",
      "DEBUG:pipecat:limit.until finished\n",
      "DEBUG:pipecat:limit.timeout finished\n",
      "DEBUG:pipecat:readline record: {'string': '$1;11;;12242;0;0;0;0;0;0;0;0;0;0;289;265;0;43\\r\\n'}\n",
      "DEBUG:pipecat:charger record: {('charger', 'temperature', 'external'): <Quantity(26.5, 'degC')>, ('battery', 'voltage'): <Quantity(0.0, 'volt')>, ('charger', 'mode'): 'info', ('charger', 'temperature', 'internal'): <Quantity(28.9, 'degC')>, ('battery', 'charge'): <Quantity(0.0, 'hour * milliampere')>, ('battery', 'current'): <Quantity(0.0, 'milliampere')>, ('charger', 'supply'): <Quantity(12.242, 'volt')>}\n",
      "DEBUG:pipecat:add_timestamp record: {('charger', 'temperature', 'external'): <Quantity(26.5, 'degC')>, ('battery', 'voltage'): <Quantity(0.0, 'volt')>, ('charger', 'mode'): 'info', ('charger', 'temperature', 'internal'): <Quantity(28.9, 'degC')>, ('battery', 'charge'): <Quantity(0.0, 'hour * milliampere')>, 'timestamp': <Arrow [2017-01-08T05:56:18.781520+00:00]>, ('battery', 'current'): <Quantity(0.0, 'milliampere')>, ('charger', 'supply'): <Quantity(12.242, 'volt')>}\n",
      "DEBUG:pipecat:add_timestamp finished\n",
      "DEBUG:pipecat:charger finished\n",
      "DEBUG:pipecat:readline finished\n"
     ]
    }
   ],
   "source": [
    "pipe = pipecat.utility.readline(serial.serial_for_url(\"/dev/cu.SLAB_USBtoUART\", baudrate=128000))\n",
    "pipe = pipecat.utility.trace(pipe, \"readline\")\n",
    "pipe = pipecat.device.charger.icharger208b(pipe)\n",
    "pipe = pipecat.utility.trace(pipe, \"charger\")\n",
    "pipe = pipecat.utility.add_timestamp(pipe)\n",
    "pipe = pipecat.utility.trace(pipe, \"add_timestamp\")\n",
    "pipe = pipecat.limit.timeout(pipe, timeout=pipecat.quantity(10, pipecat.units.seconds))\n",
    "pipe = pipecat.utility.trace(pipe, \"limit.timeout\")\n",
    "pipe = pipecat.limit.until(pipe, (\"charger\", \"mode\"), \"finished\")\n",
    "pipe = pipecat.utility.trace(pipe, \"limit.until\")\n",
    "pipe = pipecat.store.cache(pipe)\n",
    "pipe = pipecat.utility.trace(pipe, \"store.cache\")\n",
    "#pipe = pipecat.limit.count(pipe, 3)\n",
    "#pipe = pipecat.utility.trace(pipe, \"limit.count\")\n",
    "\n",
    "for index, record in enumerate(pipe):\n",
    "    if index == 1:\n",
    "        pipe.close()\n"
   ]
  },
  {
   "cell_type": "code",
   "execution_count": null,
   "metadata": {
    "collapsed": true
   },
   "outputs": [],
   "source": []
  }
 ],
 "metadata": {
  "anaconda-cloud": {},
  "kernelspec": {
   "display_name": "Python [default]",
   "language": "python",
   "name": "python2"
  },
  "language_info": {
   "codemirror_mode": {
    "name": "ipython",
    "version": 2
   },
   "file_extension": ".py",
   "mimetype": "text/x-python",
   "name": "python",
   "nbconvert_exporter": "python",
   "pygments_lexer": "ipython2",
   "version": "2.7.12"
  }
 },
 "nbformat": 4,
 "nbformat_minor": 1
}
