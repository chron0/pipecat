{
 "cells": [
  {
   "cell_type": "code",
   "execution_count": 1,
   "metadata": {
    "collapsed": false
   },
   "outputs": [],
   "source": [
    "import logging\n",
    "logging.basicConfig(level=logging.DEBUG)\n",
    "\n",
    "import pipecat.device.clock\n",
    "import pipecat.limit\n",
    "import pipecat.record\n",
    "import pipecat.utility"
   ]
  },
  {
   "cell_type": "code",
   "execution_count": 2,
   "metadata": {
    "collapsed": false
   },
   "outputs": [
    {
     "name": "stderr",
     "output_type": "stream",
     "text": [
      "WARNING:pipecat:Overwriting timestamp=2016-12-06T06:31:55.205017+00:00 with timestamp=2016-12-06T06:31:55.205028+00:00\n"
     ]
    },
    {
     "name": "stdout",
     "output_type": "stream",
     "text": [
      "timestamp: 2016-12-06T06:31:55.205028+00:00\n",
      "\n"
     ]
    },
    {
     "name": "stderr",
     "output_type": "stream",
     "text": [
      "WARNING:pipecat:Overwriting timestamp=2016-12-06T06:31:56.210804+00:00 with timestamp=2016-12-06T06:31:56.210835+00:00\n"
     ]
    },
    {
     "name": "stdout",
     "output_type": "stream",
     "text": [
      "timestamp: 2016-12-06T06:31:56.210835+00:00\n",
      "\n"
     ]
    },
    {
     "name": "stderr",
     "output_type": "stream",
     "text": [
      "WARNING:pipecat:Overwriting timestamp=2016-12-06T06:31:57.215138+00:00 with timestamp=2016-12-06T06:31:57.215168+00:00\n",
      "INFO:pipecat:Iteration stopped after 3 records.\n"
     ]
    },
    {
     "name": "stdout",
     "output_type": "stream",
     "text": [
      "timestamp: 2016-12-06T06:31:57.215168+00:00\n",
      "\n"
     ]
    }
   ],
   "source": [
    "pipe = pipecat.device.clock.metronome()\n",
    "pipe = pipecat.utility.add_timestamp(pipe)\n",
    "pipe = pipecat.utility.add_timestamp(pipe)\n",
    "pipe = pipecat.limit.count(pipe, count=3)\n",
    "\n",
    "for record in pipe:\n",
    "    pipecat.record.dump(record)"
   ]
  },
  {
   "cell_type": "code",
   "execution_count": null,
   "metadata": {
    "collapsed": true
   },
   "outputs": [],
   "source": []
  }
 ],
 "metadata": {
  "anaconda-cloud": {},
  "kernelspec": {
   "display_name": "Python [default]",
   "language": "python",
   "name": "python2"
  },
  "language_info": {
   "codemirror_mode": {
    "name": "ipython",
    "version": 2
   },
   "file_extension": ".py",
   "mimetype": "text/x-python",
   "name": "python",
   "nbconvert_exporter": "python",
   "pygments_lexer": "ipython2",
   "version": "2.7.12"
  }
 },
 "nbformat": 4,
 "nbformat_minor": 1
}
