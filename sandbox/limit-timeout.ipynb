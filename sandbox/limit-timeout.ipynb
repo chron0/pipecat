{
 "cells": [
  {
   "cell_type": "code",
   "execution_count": 1,
   "metadata": {
    "collapsed": false
   },
   "outputs": [],
   "source": [
    "import logging\n",
    "logging.basicConfig(level=logging.DEBUG)\n",
    "\n",
    "import itertools\n",
    "import time\n",
    "\n",
    "import pipecat.limit\n",
    "import pipecat.record\n",
    "import pipecat.utility"
   ]
  },
  {
   "cell_type": "code",
   "execution_count": 2,
   "metadata": {
    "collapsed": true
   },
   "outputs": [],
   "source": [
    "def broken_metronome():\n",
    "    for i in itertools.count():\n",
    "        yield {}\n",
    "        time.sleep(i)"
   ]
  },
  {
   "cell_type": "code",
   "execution_count": 3,
   "metadata": {
    "collapsed": false
   },
   "outputs": [
    {
     "name": "stdout",
     "output_type": "stream",
     "text": [
      "timestamp: 2016-12-06T06:32:49.784118+00:00\n",
      "\n",
      "timestamp: 2016-12-06T06:32:49.784156+00:00\n",
      "\n",
      "timestamp: 2016-12-06T06:32:50.789063+00:00\n",
      "\n",
      "timestamp: 2016-12-06T06:32:52.789598+00:00\n",
      "\n",
      "timestamp: 2016-12-06T06:32:55.792659+00:00\n",
      "\n",
      "timestamp: 2016-12-06T06:32:59.793101+00:00\n",
      "\n",
      "timestamp: 2016-12-06T06:33:04.796359+00:00\n",
      "\n"
     ]
    },
    {
     "name": "stderr",
     "output_type": "stream",
     "text": [
      "INFO:pipecat:Iteration stopped by 5 second timeout.\n"
     ]
    }
   ],
   "source": [
    "pipe = broken_metronome()\n",
    "pipe = pipecat.utility.add_timestamp(pipe)\n",
    "pipe = pipecat.limit.timeout(pipe, timeout=pipecat.quantity(5, pipecat.units.seconds))\n",
    "\n",
    "for record in pipe:\n",
    "    pipecat.record.dump(record)"
   ]
  }
 ],
 "metadata": {
  "anaconda-cloud": {},
  "kernelspec": {
   "display_name": "Python [default]",
   "language": "python",
   "name": "python2"
  },
  "language_info": {
   "codemirror_mode": {
    "name": "ipython",
    "version": 2
   },
   "file_extension": ".py",
   "mimetype": "text/x-python",
   "name": "python",
   "nbconvert_exporter": "python",
   "pygments_lexer": "ipython2",
   "version": "2.7.12"
  }
 },
 "nbformat": 4,
 "nbformat_minor": 1
}
