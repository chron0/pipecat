{
 "cells": [
  {
   "cell_type": "markdown",
   "metadata": {},
   "source": [
    ".. gps-receivers:\n",
    "\n",
    "## GPS Receivers\n",
    "\n",
    "Most GPS receivers have data logging capabilities that you can use with Pipecat to view navigational information.  Some receivers connect to your computer via a serial port or a serial-over-USB cable that acts like a traditional serial port.  Others can push data to a network socket.  For this demonstration, we will receive GPS data sent from an iPhone to a UDP socket:"
   ]
  },
  {
   "cell_type": "code",
   "execution_count": 1,
   "metadata": {
    "collapsed": false
   },
   "outputs": [],
   "source": [
    "# nbconvert: hide\n",
    "from __future__ import absolute_import, division, print_function\n",
    "\n",
    "import pipecat.test\n",
    "socket = pipecat.test.mock_socket()\n",
    "\n",
    "path = \"../data/gps\"\n",
    "client = \"172.10.0.20\"\n",
    "\n",
    "socket.socket().recvfrom.side_effect = pipecat.test.recvfrom_file(path=path, client=client, stop=6)"
   ]
  },
  {
   "cell_type": "code",
   "execution_count": 2,
   "metadata": {
    "collapsed": false
   },
   "outputs": [
    {
     "name": "stdout",
     "output_type": "stream",
     "text": [
      "client: 172.10.0.20\n",
      "string: $GPTXT,01,01,07,Pipecat*12\n",
      "\n",
      "\n",
      "client: 172.10.0.20\n",
      "string: $GPGGA,164100,3511.33136,N,10643.48435,W,1,8,0.9,1654.0,M,46.9,M,0,2*50\n",
      "\n",
      "\n",
      "client: 172.10.0.20\n",
      "string: $GPRMC,164100,A,3511.33136,N,10643.48435,W,0.00,0.00,311216,003.1,W*7C\n",
      "\n",
      "\n",
      "client: 172.10.0.20\n",
      "string: $GPGLL,3511.33136,N,10643.48435,W,164100,A*36\n",
      "\n",
      "\n",
      "client: 172.10.0.20\n",
      "string: $HCHDG,129.5,,,8.7,E*29\n",
      "\n",
      "\n",
      "client: 172.10.0.20\n",
      "string: $PASHR,164100190,138.24,T,+32.56,+48.49,+00.00,3.141,3.141,35.000,1,0*17\n",
      "\n",
      "\n"
     ]
    }
   ],
   "source": [
    "import pipecat.record\n",
    "import pipecat.udp\n",
    "pipe = pipecat.udp.receive(address=(\"0.0.0.0\", 7777), maxsize=1024)\n",
    "for record in pipe:\n",
    "    pipecat.record.dump(record)"
   ]
  },
  {
   "cell_type": "markdown",
   "metadata": {},
   "source": [
    "Here, we used :func:`pipcat.udp.receive` to open a UDP socket listening on port 7777 on all available network interfaces (\"0.0.0.0\") and convert the received messages into Pipecat :ref:`records`, which we dump to the console.  Note that each record includes the IP address of the client (the phone in this case), along with a string containing the raw data of the message.  In this case the raw data is in NMEA format, a widely-used standard for exchanging navigational data.  To decode the contents of each message, we add the appropriate Pipecat device to the end of the pipe:"
   ]
  },
  {
   "cell_type": "code",
   "execution_count": 3,
   "metadata": {
    "collapsed": false
   },
   "outputs": [],
   "source": [
    "# nbconvert: hide\n",
    "socket.socket().recvfrom.side_effect = pipecat.test.recvfrom_file(path=path, client=client, stop=6)"
   ]
  },
  {
   "cell_type": "code",
   "execution_count": 4,
   "metadata": {
    "collapsed": false
   },
   "outputs": [
    {
     "name": "stdout",
     "output_type": "stream",
     "text": [
      "id: GPTXT\n",
      "text: Pipecat\n",
      "\n",
      "altitude: 1654.0 meter\n",
      "dop: 0.9\n",
      "geoid-height: 46.9 meter\n",
      "id: GPGGA\n",
      "latitude: 35.188856 degree\n",
      "longitude: -106.724739167 degree\n",
      "quality: 1\n",
      "satellites: 8\n",
      "time: 164100\n",
      "\n",
      "active: True\n",
      "date: 311216\n",
      "id: GPRMC\n",
      "latitude: 35.188856 degree\n",
      "longitude: -106.724739167 degree\n",
      "speed: 0.0 knot\n",
      "time: 164100\n",
      "track: 0.0 degree\n",
      "variation: -3.1 degree\n",
      "\n",
      "active: True\n",
      "id: GPGLL\n",
      "latitude: 35.188856 degree\n",
      "longitude: -106.724739167 degree\n",
      "time: 164100\n",
      "\n",
      "heading: 129.5 degree\n",
      "id: HCHDG\n",
      "variation: 8.7 degree\n",
      "\n",
      "heading: 138.24 degree\n",
      "heading-accuracy: 35.0 degree\n",
      "heave: 0.0 meter\n",
      "id: PASHR\n",
      "pitch: 48.49 degree\n",
      "pitch-accuracy: 3.141 degree\n",
      "roll: 32.56 degree\n",
      "roll-accuracy: 3.141 degree\n",
      "time: 164100190\n",
      "\n"
     ]
    }
   ],
   "source": [
    "import pipecat.device.gps\n",
    "pipe = pipecat.udp.receive(address=(\"0.0.0.0\", 7777), maxsize=1024)\n",
    "pipe = pipecat.device.gps.nmea(pipe)\n",
    "for record in pipe:\n",
    "    pipecat.record.dump(record)"
   ]
  },
  {
   "cell_type": "markdown",
   "metadata": {},
   "source": [
    "As you can see, :func:`pipecat.device.gps.nmea` has converted the raw NMEA messages into records containing human-readable navigational fields with appropriate physical units.  Note that unlike the :ref:`battery-chargers` example, not every record produced by the GPS receiver has the same fields.  The NMEA standard includes many different *types* of messages, and most GPS receivers will produce more than one type.  This will increase the complexity of our code - for example, we will have to test for the presence of a field before extracting it from a record:"
   ]
  },
  {
   "cell_type": "code",
   "execution_count": 5,
   "metadata": {
    "collapsed": false
   },
   "outputs": [],
   "source": [
    "# nbconvert: hide\n",
    "socket.socket().recvfrom.side_effect = pipecat.test.recvfrom_file(path=path, client=client, start=100, stop=110)"
   ]
  },
  {
   "cell_type": "code",
   "execution_count": 6,
   "metadata": {
    "collapsed": false
   },
   "outputs": [
    {
     "name": "stdout",
     "output_type": "stream",
     "text": [
      "Latitude: 35.1949926667 degree Longitude: -106.7111135 degree\n",
      "Latitude: 35.1949926667 degree Longitude: -106.7111135 degree\n",
      "Latitude: 35.1949926667 degree Longitude: -106.7111135 degree\n",
      "Latitude: 35.1952843333 degree Longitude: -106.710192667 degree\n",
      "Latitude: 35.1952843333 degree Longitude: -106.710192667 degree\n",
      "Latitude: 35.1952843333 degree Longitude: -106.710192667 degree\n"
     ]
    }
   ],
   "source": [
    "import pipecat.device.gps\n",
    "pipe = pipecat.udp.receive(address=(\"0.0.0.0\", 7777), maxsize=1024)\n",
    "pipe = pipecat.device.gps.nmea(pipe)\n",
    "for record in pipe:\n",
    "    if \"latitude\" in record:\n",
    "        print(\"Latitude:\", record[\"latitude\"], \"Longitude:\", record[\"longitude\"])"
   ]
  },
  {
   "cell_type": "markdown",
   "metadata": {},
   "source": [
    "... alternatively, you might key your code off a specific type of message, using the `id` field.\n",
    "\n",
    "As always, you can convert units safely and explicitly:"
   ]
  },
  {
   "cell_type": "code",
   "execution_count": 7,
   "metadata": {
    "collapsed": false
   },
   "outputs": [],
   "source": [
    "# nbconvert: hide\n",
    "socket.socket().recvfrom.side_effect = pipecat.test.recvfrom_file(path=path, client=client, start=100, stop=120)"
   ]
  },
  {
   "cell_type": "code",
   "execution_count": 8,
   "metadata": {
    "collapsed": false
   },
   "outputs": [
    {
     "name": "stdout",
     "output_type": "stream",
     "text": [
      "39.9320468464 mph\n",
      "40.0586325857 mph\n",
      "40.1276793526 mph\n",
      "38.5626193033 mph\n"
     ]
    }
   ],
   "source": [
    "import pipecat.device.gps\n",
    "pipe = pipecat.udp.receive(address=(\"0.0.0.0\", 7777), maxsize=1024)\n",
    "pipe = pipecat.device.gps.nmea(pipe)\n",
    "for record in pipe:\n",
    "    if \"speed\" in record:\n",
    "        print(record[\"speed\"].to(pipecat.units.mph))"
   ]
  },
  {
   "cell_type": "code",
   "execution_count": 9,
   "metadata": {
    "collapsed": true
   },
   "outputs": [],
   "source": [
    "# nbconvert: stop"
   ]
  },
  {
   "cell_type": "markdown",
   "metadata": {},
   "source": [
    "As an aside, you may be wondering at this point why it's necessary to explicitly create the serial port and connect it to `readline` ... why not code that functionality directly into `icharger208b`?  The answer is flexibility: by separating Pipecat's functionality into discrete, well-defined components, those components can be easily combined in new and unexpected ways.  For example, you could use `icharger208b` with a charger that communicated over a network socket instead of a serial port.  Or you could \"replay\" data from a charger stored in a file: "
   ]
  },
  {
   "cell_type": "raw",
   "metadata": {
    "collapsed": false,
    "scrolled": true
   },
   "source": [
    "fobj = open(\"../data/icharger208b-charging-sample\")\n",
    "pipe = pipecat.utility.readline(fobj)\n",
    "pipe = pipecat.device.charger.icharger208b(pipe)\n",
    "for record in pipe:\n",
    "    print(record[(\"battery\", \"charge\")])"
   ]
  },
  {
   "cell_type": "markdown",
   "metadata": {},
   "source": [
    "Let's explore other things we can do with our pipe.  To begin, you might want to add additional metadata to the records returned from a device.  For example, you might want to append timestamps:"
   ]
  },
  {
   "cell_type": "raw",
   "metadata": {
    "collapsed": false
   },
   "source": [
    "# nbconvert: hide\n",
    "pipecat.test.read_file(mock_serial.serial_for_url, \"../data/icharger208b-charging\", rate=pipecat.quantity(1, pipecat.units.seconds), stop=3)"
   ]
  },
  {
   "cell_type": "raw",
   "metadata": {
    "collapsed": false
   },
   "source": [
    "port = serial.serial_for_url(\"/dev/cu.SLAB_USBtoUART\", baudrate=128000)\n",
    "pipe = pipecat.utility.readline(port)\n",
    "pipe = pipecat.device.charger.icharger208b(pipe)\n",
    "pipe = pipecat.utility.add_timestamp(pipe)\n",
    "for record in pipe:\n",
    "    pipecat.record.dump(record)"
   ]
  },
  {
   "cell_type": "markdown",
   "metadata": {},
   "source": [
    "Note that :func:`pipecat.utility.add_timestamp` has added a `timestamp` field to each record.  Timestamps in Pipecat are always recorded using UTC (universal) time, so you will likely want to convert them to your local timezone before formatting them for display:"
   ]
  },
  {
   "cell_type": "raw",
   "metadata": {
    "collapsed": false
   },
   "source": [
    "port = serial.serial_for_url(\"/dev/cu.SLAB_USBtoUART\", baudrate=128000)\n",
    "pipe = pipecat.utility.readline(port)\n",
    "pipe = pipecat.device.charger.icharger208b(pipe)\n",
    "pipe = pipecat.utility.add_timestamp(pipe)\n",
    "for record in pipe:\n",
    "    print(\n",
    "        record[\"timestamp\"].to(\"local\").format(\"YYYY-MM-DD hh:mm:ss a\"),\n",
    "        record[(\"battery\", \"voltage\")],\n",
    "    )"
   ]
  },
  {
   "cell_type": "markdown",
   "metadata": {},
   "source": [
    "You could also use :func:`pipecat.utility.add_field` to append your own custom field to every record that passes through the pipe."
   ]
  },
  {
   "cell_type": "markdown",
   "metadata": {},
   "source": [
    "Now let's consider calculating some simple statistics, such as the minimum and maximum battery voltage while charging.  When we iterate over the contents of a pipe using a `for` loop, we receive one record at-a-time until the pipe is empty.  We could keep track of a \"running\" minimum and maximum during iteration, and there are use-cases where that is the best way to solve the problem.  However, for moderately-sized data, Pipecat provides a more convenient approach: "
   ]
  },
  {
   "cell_type": "raw",
   "metadata": {
    "collapsed": false
   },
   "source": [
    "# nbconvert: hide\n",
    "pipecat.test.read_file(mock_serial.serial_for_url, \"../data/icharger208b-charging\")"
   ]
  },
  {
   "cell_type": "raw",
   "metadata": {
    "collapsed": false
   },
   "source": [
    "import pipecat.store\n",
    "port = serial.serial_for_url(\"/dev/cu.SLAB_USBtoUART\", baudrate=128000)\n",
    "pipe = pipecat.utility.readline(port)\n",
    "pipe = pipecat.device.charger.icharger208b(pipe)\n",
    "pipe = pipecat.store.cache(pipe)\n",
    "for record in pipe:\n",
    "    pass\n",
    "print(len(pipe.table))\n",
    "print(pipe.table[(\"battery\", \"voltage\")])"
   ]
  },
  {
   "cell_type": "markdown",
   "metadata": {},
   "source": [
    "Here, :func:`pipecat.store.cache` creates an in-memory cache that stores every record it receives.   We have a do-nothing `for` loop that reads data from the charger to populate the cache.  Once that's complete, we can use the cache `table` attribute to retrieve data from the cache using the same keys and syntax we would use with a record.  Unlike a record, the cache returns every value for a given key at once (using a Numpy array), which makes it easy to compute the statistics we're interested in:"
   ]
  },
  {
   "cell_type": "raw",
   "metadata": {
    "collapsed": false
   },
   "source": [
    "import pipecat.store\n",
    "port = serial.serial_for_url(\"/dev/cu.SLAB_USBtoUART\", baudrate=128000)\n",
    "pipe = pipecat.utility.readline(port)\n",
    "pipe = pipecat.device.charger.icharger208b(pipe)\n",
    "pipe = pipecat.store.cache(pipe)\n",
    "for record in pipe:\n",
    "    pass\n",
    "print(\"Min:\", pipe.table[(\"battery\", \"voltage\")].min())\n",
    "print(\"Max:\", pipe.table[(\"battery\", \"voltage\")].max())"
   ]
  },
  {
   "cell_type": "markdown",
   "metadata": {},
   "source": [
    "Consolidating fields using the cache is also perfect for generating plots with a library like Toyplot (http://toyplot.readthedocs.io):"
   ]
  },
  {
   "cell_type": "raw",
   "metadata": {
    "collapsed": false
   },
   "source": [
    "import toyplot\n",
    "\n",
    "canvas = toyplot.Canvas()\n",
    "axes = canvas.cartesian(grid=(3, 1, 0), label=\"Battery\", ylabel=\"Voltage (V)\")\n",
    "axes.plot(pipe.table[(\"battery\", \"voltage\")].to(pipecat.units.volt))\n",
    "\n",
    "axes = canvas.cartesian(grid=(3, 1, 1), ylabel=\"Current (A)\")\n",
    "axes.plot(pipe.table[(\"battery\", \"current\")].to(pipecat.units.amp))\n",
    "\n",
    "axes = canvas.cartesian(grid=(3, 1, 2), ylabel=\"Charge (mAH)\")\n",
    "axes.plot(pipe.table[(\"battery\", \"charge\")].to(pipecat.units.milliamp * pipecat.units.hour));"
   ]
  },
  {
   "cell_type": "markdown",
   "metadata": {},
   "source": [
    "Note that nothing prevents us from doing useful work in the `for` loop that populates the cache, and nothing prevents us from accessing the cache within the loop.  For example, we might want to display field values from individual records alongside a running average computed from the cache.  Or we might want to update our plot periodically as the loop progresses."
   ]
  },
  {
   "cell_type": "markdown",
   "metadata": {},
   "source": [
    "Moving on, you will likely want to store records to disk for later access.  Pipecat provides components to make this easy too.  First, you can add :func:`pipecat.store.pickle.write` to the end of a pipe, to write records to disk using Python's pickle format:"
   ]
  },
  {
   "cell_type": "raw",
   "metadata": {
    "collapsed": false
   },
   "source": [
    "# nbconvert: hide\n",
    "import os\n",
    "\n",
    "pipecat.test.read_file(mock_serial.serial_for_url, \"../data/icharger208b-charging\", stop=3)\n",
    "if os.path.exists(\"charger.pickle\"):\n",
    "    os.remove(\"charger.pickle\")"
   ]
  },
  {
   "cell_type": "raw",
   "metadata": {
    "collapsed": false
   },
   "source": [
    "import pipecat.store.pickle\n",
    "port = serial.serial_for_url(\"/dev/cu.SLAB_USBtoUART\", baudrate=128000)\n",
    "pipe = pipecat.utility.readline(port)\n",
    "pipe = pipecat.device.charger.icharger208b(pipe)\n",
    "pipe = pipecat.utility.add_timestamp(pipe)\n",
    "pipe = pipecat.store.pickle.write(pipe, \"charger.pickle\")\n",
    "for record in pipe:\n",
    "    pass"
   ]
  },
  {
   "cell_type": "raw",
   "metadata": {},
   "source": [
    "Later, you can use :func:`pipecat.store.pickle.read` to read the records back in again:"
   ]
  },
  {
   "cell_type": "raw",
   "metadata": {
    "collapsed": false,
    "scrolled": false
   },
   "source": [
    "pipe = pipecat.store.pickle.read(\"charger.pickle\")\n",
    "pipe = pipecat.store.cache(pipe)\n",
    "for record in pipe:\n",
    "    pipecat.record.dump(record)\n",
    "print(\"Average:\", pipe.table[(\"battery\", \"voltage\")].mean())"
   ]
  },
  {
   "cell_type": "markdown",
   "metadata": {},
   "source": [
    "This is another example of the interchangeability of the Pipecat components: the pickle writer is a record consumer, and the pickle reader is a record generator.  In essence, we \"broke\" our previous pipe into two separate pipes that communicate via the filesystem.  While we won't go into detail here, a similar approach could be used to communicate between threads using a message queue or between processes over a socket."
   ]
  },
  {
   "cell_type": "raw",
   "metadata": {
    "collapsed": false
   },
   "source": [
    "# nbconvert: hide\n",
    "pipecat.test.read_file(mock_serial.serial_for_url, \"../data/icharger208b-charging\", rate=pipecat.quantity(2, pipecat.units.seconds), stop=10, block=True)"
   ]
  },
  {
   "cell_type": "markdown",
   "metadata": {},
   "source": [
    "There is one final issue that we've ignored so far: when to stop logging data.  The :func:`pipecat.utility.readline()` function will read data from the serial port as long as the port is open, blocking indefinitely if no data is arriving.  That means that for all the preceeding examples the `for` loop will never end unless the serial port is closed (i.e. the external device is turned-off or unplugged), or the code is interrupted using Control-C.  While that's fine for prototyping at the command line, we need to have a way to stop collecting data and shutdown cleanly if we're going to automate data logging processes.  Fortunately, Pipecat provides several easy-to-use functions to do just that:"
   ]
  },
  {
   "cell_type": "raw",
   "metadata": {
    "collapsed": false,
    "scrolled": false
   },
   "source": [
    "import pipecat.limit\n",
    "port = serial.serial_for_url(\"/dev/cu.SLAB_USBtoUART\", baudrate=128000)\n",
    "pipe = pipecat.utility.readline(port)\n",
    "pipe = pipecat.device.charger.icharger208b(pipe)\n",
    "pipe = pipecat.utility.add_timestamp(pipe)\n",
    "pipe = pipecat.limit.count(pipe, count=2)\n",
    "for record in pipe:\n",
    "    pipecat.record.dump(record)"
   ]
  },
  {
   "cell_type": "markdown",
   "metadata": {
    "collapsed": true
   },
   "source": [
    "Here, :func:`pipecat.limit.count` ends the loop when `count` records have been received.  This is often handy during development to limit the amount of data consumed from a device that produces output continuously.  However, this approach is no good for devices like our charger that will produce a finite, indeterminate number of records - if the device stops sending records before the `count` has been reached, the loop will still block.  Instead, we could use :func:`pipecat.limit.duration` to limit the total amount of time the loop is allowed to run instead:"
   ]
  },
  {
   "cell_type": "raw",
   "metadata": {
    "collapsed": false,
    "scrolled": false
   },
   "source": [
    "import pipecat.limit\n",
    "port = serial.serial_for_url(\"/dev/cu.SLAB_USBtoUART\", baudrate=128000)\n",
    "pipe = pipecat.utility.readline(port)\n",
    "pipe = pipecat.device.charger.icharger208b(pipe)\n",
    "pipe = pipecat.utility.add_timestamp(pipe)\n",
    "pipe = pipecat.limit.duration(pipe, duration=pipecat.quantity(4, pipecat.units.seconds))\n",
    "for record in pipe:\n",
    "    pipecat.record.dump(record)"
   ]
  },
  {
   "cell_type": "markdown",
   "metadata": {},
   "source": [
    "This approach is an improvement because it puts an upper-bound on the amount of time the loop will run, whether the device has stopped sending records or not.  However, it's still error-prone, since we don't know in advance how long charging will take - if we set the duration too low, it may stop the loop before charging is complete.  If we set the duration too high, we will capture all the records we want, but we will likely waste time waiting for records that will never come.  Ideally, we would like to exit the loop as soon as the charger tells us it's finished.  Fortunately, the charger provides a field - `charger/mode` that can do just that:"
   ]
  },
  {
   "cell_type": "raw",
   "metadata": {
    "collapsed": false
   },
   "source": [
    "# nbconvert: hide\n",
    "pipecat.test.read_file(mock_serial.serial_for_url, \"../data/icharger208b-charging\", rate=pipecat.quantity(2, pipecat.units.seconds), start=1285, block=True)"
   ]
  },
  {
   "cell_type": "raw",
   "metadata": {
    "collapsed": false,
    "scrolled": false
   },
   "source": [
    "import pipecat.limit\n",
    "port = serial.serial_for_url(\"/dev/cu.SLAB_USBtoUART\", baudrate=128000)\n",
    "pipe = pipecat.utility.readline(port)\n",
    "pipe = pipecat.device.charger.icharger208b(pipe)\n",
    "pipe = pipecat.utility.add_timestamp(pipe)\n",
    "pipe = pipecat.limit.until(pipe, key=(\"charger\", \"mode\"), value=\"finished\")\n",
    "for record in pipe:\n",
    "    pipecat.record.dump(record)"
   ]
  },
  {
   "cell_type": "markdown",
   "metadata": {},
   "source": [
    ":func:`pipecat.limit.until` terminates the loop as soon as it receives a record with the given key and value.  This approach finally gets us our desired behavior (loop ends as soon as the charger is finished), but it could use just a little more work to make it robust.  For example, what happens if the charger stops sending data before the mode changes?  We could combine :func:`pipecat.limit.until` with :func:`pipecat.limit.duration`, but that would still suffer from the terminate-too-soon / waste-too-much-time problem.  Fortunately, we know from testing that our charger sends records every two seconds (if at all), and Pipecat provides :func:`pipecat.limit.timeout`, which can terminate the loop if it doesn't receive a record within a specified time interval: "
   ]
  },
  {
   "cell_type": "raw",
   "metadata": {
    "collapsed": false,
    "scrolled": false
   },
   "source": [
    "import pipecat.limit\n",
    "port = serial.serial_for_url(\"/dev/cu.SLAB_USBtoUART\", baudrate=128000)\n",
    "pipe = pipecat.utility.readline(port)\n",
    "pipe = pipecat.device.charger.icharger208b(pipe)\n",
    "pipe = pipecat.utility.add_timestamp(pipe)\n",
    "pipe = pipecat.limit.until(pipe, key=(\"charger\", \"mode\"), value=\"finished\")\n",
    "pipe = pipecat.limit.timeout(pipe, timeout=pipecat.quantity(5, pipecat.units.seconds))\n",
    "for record in pipe:\n",
    "    pipecat.record.dump(record)"
   ]
  },
  {
   "cell_type": "markdown",
   "metadata": {},
   "source": [
    "While this example exits normally, you can see how easy it is to combine limit functions to control when the `for` loop terminates."
   ]
  }
 ],
 "metadata": {
  "anaconda-cloud": {},
  "kernelspec": {
   "display_name": "Python [default]",
   "language": "python",
   "name": "python2"
  },
  "language_info": {
   "codemirror_mode": {
    "name": "ipython",
    "version": 2
   },
   "file_extension": ".py",
   "mimetype": "text/x-python",
   "name": "python",
   "nbconvert_exporter": "python",
   "pygments_lexer": "ipython2",
   "version": "2.7.12"
  }
 },
 "nbformat": 4,
 "nbformat_minor": 1
}
